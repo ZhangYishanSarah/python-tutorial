{
 "cells": [
  {
   "cell_type": "markdown",
   "metadata": {},
   "source": [
    "## Common Jupyter operations\n",
    "\n",
    "Near the top of the https://try.jupyter.org page, Jupyter provides a row of menu options (`File`, `Edit`, `View`, `Insert`, ...) and a row of tool bar icons (disk, plus sign, scissors, 2 files, clipboard and file, up arrow, ...).\n",
    "\n",
    "#### Inserting and removing cells\n",
    "\n",
    "- Use the \"plus sign\" icon to insert a cell below the currently selected cell\n",
    "- Use \"Insert\" -> \"Insert Cell Above\" from the menu to insert above\n",
    "\n",
    "#### Clear the output of all cells\n",
    "\n",
    "- Use \"Kernel\" -> \"Restart\" from the menu to restart the kernel\n",
    "    - click on \"clear all outputs & restart\" to have all the output cleared\n",
    "\n",
    "#### Save your notebook file locally\n",
    "\n",
    "- Clear the output of all cells\n",
    "- Use \"File\" -> \"Download as\" -> \"IPython Notebook (.ipynb)\" to download a notebook file representing your https://try.jupyter.org session\n",
    "\n",
    "#### Load your notebook file in try.jupyter.org\n",
    "\n",
    "1. Visit https://try.jupyter.org\n",
    "2. Click the \"Upload\" button near the upper right corner\n",
    "3. Navigate your filesystem to find your `*.ipynb` file and click \"open\"\n",
    "4. Click the new \"upload\" button that appears next to your file name\n",
    "5. Click on your uploaded notebook file\n",
    "\n",
    "<hr>"
   ]
  },
  {
   "cell_type": "markdown",
   "metadata": {},
   "source": [
    "## References\n",
    "\n",
    "- https://try.jupyter.org\n",
    "- https://docs.python.org/3/tutorial/index.html\n",
    "- https://docs.python.org/3/tutorial/introduction.html\n",
    "- https://daringfireball.net/projects/markdown/syntax\n",
    "- https://www.tutorialspoint.com/python3\n",
    "- https://www.digitalocean.com/community/tutorials/how-to-use-args-and-kwargs-in-python-3\n",
    "<hr>"
   ]
  },
  {
   "cell_type": "markdown",
   "metadata": {},
   "source": [
    "Before reading this materials, you should know:\n",
    "- how to run jupyter notebook\n",
    "- python comments\n",
    "    - single line comment : #\n",
    "    - multiple line comment (triple single quotes) : ''' and '''"
   ]
  },
  {
   "cell_type": "markdown",
   "metadata": {},
   "source": [
    "# Check if you are using python3"
   ]
  },
  {
   "cell_type": "code",
   "execution_count": 54,
   "metadata": {},
   "outputs": [
    {
     "data": {
      "text/plain": [
       "'3.5.2 (default, Jun 29 2016, 13:42:59) \\n[GCC 4.2.1 Compatible Apple LLVM 7.0.2 (clang-700.1.81)]'"
      ]
     },
     "execution_count": 54,
     "metadata": {},
     "output_type": "execute_result"
    }
   ],
   "source": [
    "import sys\n",
    "sys.version"
   ]
  },
  {
   "cell_type": "markdown",
   "metadata": {},
   "source": [
    "# Function\n",
    "- A function is a block of organized, reusable code that is used to perform a single, related action. \n",
    "- Functions provide better modularity for your application and a high degree of CODE REUSING.\n",
    "- build-in functions: e.g. print()\n",
    "- user-defined functions"
   ]
  },
  {
   "cell_type": "markdown",
   "metadata": {},
   "source": [
    "## Define a function"
   ]
  },
  {
   "cell_type": "raw",
   "metadata": {},
   "source": [
    "# Syntax:\n",
    "def functionname( parameters ):\n",
    "   \"function_docstring\"\n",
    "   function_suite\n",
    "   return [expression]"
   ]
  },
  {
   "cell_type": "code",
   "execution_count": 55,
   "metadata": {
    "collapsed": true
   },
   "outputs": [],
   "source": [
    "# example\n",
    "def printme( str ):\n",
    "    \"This prints a passed string into this function\"\n",
    "    print (str)\n",
    "    return"
   ]
  },
  {
   "cell_type": "markdown",
   "metadata": {},
   "source": [
    "- Function blocks begin with the keyword def followed by the function name and parentheses ( ).\n",
    "- Any input parameters or arguments should be placed within these parentheses. You can also define parameters inside these parentheses.\n",
    "- The first statement of a function can be an optional statement - the documentation string of the function or docstring.\n",
    "- The code block within every function starts with a colon (:) and is indented.\n",
    "- The statement return [expression] exits a function, optionally passing back an expression to the caller. A return statement with no arguments is the same as return None.\n",
    "- comparing with the functions in cpp:\n",
    "    - no need to specify the return type. the keyword return is optional\n",
    "    - no need to specify the parameter type\n",
    "    - no need to use {} to form a code block. In python, we can use the same amount of spaces as indentation\n",
    "    - use ':' at the end of the function header statement"
   ]
  },
  {
   "cell_type": "markdown",
   "metadata": {},
   "source": [
    "## Call a function\n",
    "- once a function has been defined, you can execute it by:\n",
    "    - calling it from another function\n",
    "    - directly from python prompt"
   ]
  },
  {
   "cell_type": "code",
   "execution_count": 56,
   "metadata": {},
   "outputs": [
    {
     "name": "stdout",
     "output_type": "stream",
     "text": [
      "This is first call to the user defined function!\n",
      "Again second call to the same function\n"
     ]
    }
   ],
   "source": [
    "# we have defined printme() function above\n",
    "# Now you can call printme function\n",
    "printme(\"This is first call to the user defined function!\")\n",
    "printme(\"Again second call to the same function\")"
   ]
  },
  {
   "cell_type": "markdown",
   "metadata": {},
   "source": [
    "## Pass by Reference vs Value\n",
    "- All parameters (arguments) in the Python language are passed by reference. \n",
    "- It means if you change what a parameter refers to within a function, the change also reflects back in the calling function"
   ]
  },
  {
   "cell_type": "code",
   "execution_count": 57,
   "metadata": {},
   "outputs": [
    {
     "name": "stdout",
     "output_type": "stream",
     "text": [
      "Values inside the function before change:  [10, 20, 30]\n",
      "Values inside the function after change:  [10, 20, 50]\n",
      "Values outside the function:  [10, 20, 50]\n"
     ]
    }
   ],
   "source": [
    "# Function definition is here\n",
    "def changeme( mylist ):\n",
    "    \"This changes a passed list into this function\"\n",
    "    print(\"Values inside the function before change: \", mylist)\n",
    "\n",
    "    mylist[2]=50\n",
    "    print(\"Values inside the function after change: \", mylist)\n",
    "    return\n",
    "\n",
    "# Now you can call changeme function\n",
    "mylist = [10,20,30]\n",
    "changeme( mylist )\n",
    "print(\"Values outside the function: \", mylist)"
   ]
  },
  {
   "cell_type": "code",
   "execution_count": 58,
   "metadata": {},
   "outputs": [
    {
     "name": "stdout",
     "output_type": "stream",
     "text": [
      "Values inside the function:  [1, 2, 3, 4]\n",
      "Values outside the function:  [10, 20, 30]\n"
     ]
    }
   ],
   "source": [
    "# Function definition is here\n",
    "# The parameter mylist is local to the function changeme.\n",
    "# Changing mylist within the function does not affect mylist.\n",
    "def changeme( mylist ):\n",
    "    \"This changes a passed list into this function\"\n",
    "    mylist = [1,2,3,4] # This would assign new reference in mylist\n",
    "    print(\"Values inside the function: \", mylist)\n",
    "    return\n",
    "\n",
    "# Now you can call changeme function\n",
    "mylist = [10,20,30]\n",
    "changeme( mylist )\n",
    "print(\"Values outside the function: \", mylist)"
   ]
  },
  {
   "cell_type": "markdown",
   "metadata": {},
   "source": [
    "## Function arguments\n",
    "- Required arguments\n",
    "- Keyword arguments\n",
    "- Default arguments\n",
    "- Variable-length arguments"
   ]
  },
  {
   "cell_type": "code",
   "execution_count": 59,
   "metadata": {},
   "outputs": [
    {
     "name": "stdout",
     "output_type": "stream",
     "text": [
      "str1 =  hi\n",
      "str2 =  goodbye\n"
     ]
    }
   ],
   "source": [
    "# Required arguments:\n",
    "# Required arguments are the arguments passed to a function in correct positional order. \n",
    "# Here, the number of arguments in the function call should match exactly with the function definition.\n",
    "# Function definition is here\n",
    "def printme( str1, str2 ):\n",
    "    \"This prints a passed string into this function\"\n",
    "    print('str1 = ', str1)\n",
    "    print('str2 = ', str2)\n",
    "    return\n",
    "\n",
    "# Now you can call printme function\n",
    "printme('hi', 'goodbye') # 'hi' matches str1; 'goodbye' matches str2\n",
    "# printme() # you will get the TypeError: printme() missing 2 required positional arguments: 'str1' and 'str2'"
   ]
  },
  {
   "cell_type": "code",
   "execution_count": 60,
   "metadata": {},
   "outputs": [
    {
     "name": "stdout",
     "output_type": "stream",
     "text": [
      "str1 =  hi\n",
      "str2 =  goodbye\n",
      "str1 =  hi\n",
      "str2 =  goodbye\n"
     ]
    }
   ],
   "source": [
    "# Keyword Arguments:\n",
    "# the caller identifies the arguments by the parameter name.\n",
    "# This allows you to skip arguments or place them out of order \n",
    "# because the Python interpreter is able to use the keywords provided to match the values with parameters.\n",
    "def printme( str1, str2 ):\n",
    "    \"This prints a passed string into this function\"\n",
    "    print('str1 = ', str1)\n",
    "    print('str2 = ', str2)\n",
    "    return\n",
    "\n",
    "# Now you can call printme function\n",
    "printme(str1 = 'hi', str2 = 'goodbye')\n",
    "printme(str2 = 'goodbye', str1 = 'hi')"
   ]
  },
  {
   "cell_type": "code",
   "execution_count": 61,
   "metadata": {},
   "outputs": [
    {
     "name": "stdout",
     "output_type": "stream",
     "text": [
      "first call:\n",
      "str1 =  hi\n",
      "str2 =  goodbye\n",
      "\n",
      "second call:\n",
      "str1 =  hi\n",
      "str2 =  python\n",
      "\n",
      "third call:\n",
      "str1 =  hi\n",
      "str2 =  python\n"
     ]
    }
   ],
   "source": [
    "# Default Arguments\n",
    "# an argument that assumes a default value \n",
    "# if a value is not provided in the function call\n",
    "def printme( str1, str2='python'):\n",
    "    \"This prints a passed string into this function\"\n",
    "    print('str1 = ', str1)\n",
    "    print('str2 = ', str2)\n",
    "    return\n",
    "\n",
    "# what if we define like this? def printme( str1='cpp', str2):\n",
    "\n",
    "# Now you can call printme function\n",
    "print('first call:')\n",
    "printme(str1 = 'hi', str2 = 'goodbye')\n",
    "print('\\nsecond call:')\n",
    "printme(str1 = 'hi')\n",
    "print('\\nthird call:')\n",
    "printme('hi')"
   ]
  },
  {
   "cell_type": "code",
   "execution_count": 62,
   "metadata": {
    "collapsed": true
   },
   "outputs": [],
   "source": [
    "# Variable-length Arguments:\n",
    "# *args\n",
    "# **kwargs"
   ]
  },
  {
   "cell_type": "code",
   "execution_count": 63,
   "metadata": {
    "collapsed": true
   },
   "outputs": [],
   "source": [
    "def multiply(x, y):\n",
    "    print(x * y)"
   ]
  },
  {
   "cell_type": "code",
   "execution_count": 64,
   "metadata": {},
   "outputs": [
    {
     "name": "stdout",
     "output_type": "stream",
     "text": [
      "6\n"
     ]
    }
   ],
   "source": [
    "# we can call multiply function as shown below:\n",
    "multiply(2, 3)"
   ]
  },
  {
   "cell_type": "code",
   "execution_count": 65,
   "metadata": {},
   "outputs": [],
   "source": [
    "# what if I need to compute the product for three input arguments?\n",
    "# multiply(2, 3, 4)\n",
    "# you get the TypeError: multiply() takes 2 positional arguments but 3 were given"
   ]
  },
  {
   "cell_type": "code",
   "execution_count": 66,
   "metadata": {},
   "outputs": [
    {
     "name": "stdout",
     "output_type": "stream",
     "text": [
      "20\n",
      "90\n",
      "24\n",
      "900\n"
     ]
    }
   ],
   "source": [
    "# what if 4, 5, 6 input arguments?\n",
    "# can we define a more flexible function?\n",
    "# solution: *args\n",
    "# the single-asterisk form of *args can be used as a parameter \n",
    "# to send a non-keyworded variable-length argument LIST to functions\n",
    "def multiply(*args):\n",
    "    '''\n",
    "    1) the term 'args' can be replaced by other variable names\n",
    "    2) but typically we use args.\n",
    "    3) args is a list \n",
    "    '''\n",
    "    z = 1\n",
    "    for num in args:\n",
    "        z *= num\n",
    "    print(z)\n",
    "multiply(4, 5) # args = [4, 5]\n",
    "multiply(10, 9) # args = [10, 9]\n",
    "multiply(2, 3, 4)\n",
    "multiply(3, 5, 10, 6)"
   ]
  },
  {
   "cell_type": "code",
   "execution_count": 76,
   "metadata": {},
   "outputs": [
    {
     "name": "stdout",
     "output_type": "stream",
     "text": [
      "{'kwargs_3': True, 'kwargs_1': 'Shark', 'kwargs_2': 4.5}\n",
      "The value of your_name is Casey\n",
      "The value of my_name is Sammy\n"
     ]
    }
   ],
   "source": [
    "# Similarly, if we want to use the variable-length keyward arguments, we can try\n",
    "# **kwargs\n",
    "# The double asterisk form of **kwargs is used to \n",
    "# pass a keyworded, variable-length argument DICTIONARY to a function\n",
    "\n",
    "def print_kwargs(**kwargs):\n",
    "        print(kwargs)# kwargs is a dictionary. items are unordered\n",
    "\n",
    "print_kwargs(kwargs_1=\"Shark\", kwargs_2=4.5, kwargs_3=True)\n",
    "\n",
    "def print_items(**kwargs):\n",
    "    for key, value in kwargs.items():\n",
    "        print(\"The value of {} is {}\".format(key, value))\n",
    "\n",
    "print_items(my_name=\"Sammy\", your_name=\"Casey\")"
   ]
  },
  {
   "cell_type": "code",
   "execution_count": 68,
   "metadata": {
    "collapsed": true
   },
   "outputs": [],
   "source": [
    "# Ordering Arguments\n",
    "# When ordering arguments within a function or function call\n",
    "# arguments need to occur in a particular order:\n",
    "# 1) Formal positional arguments\n",
    "# 2) *args\n",
    "# 3) Keyword arguments\n",
    "# 4) **kwargs\n",
    "\n",
    "def example1(arg_1, arg_2, *args, **kwargs):\n",
    "    pass\n",
    "\n",
    "def example2(arg_1, arg_2, *args, kw_1=\"shark\", kw_2=\"blobfish\", **kwargs):\n",
    "    pass"
   ]
  },
  {
   "cell_type": "code",
   "execution_count": 69,
   "metadata": {},
   "outputs": [
    {
     "name": "stdout",
     "output_type": "stream",
     "text": [
      "arg_1: Sammy\n",
      "arg_2: Casey\n",
      "arg_3: Alex\n"
     ]
    }
   ],
   "source": [
    "# *args and **kwargs in function calls\n",
    "def some_args(arg_1, arg_2, arg_3):\n",
    "    print(\"arg_1:\", arg_1)\n",
    "    print(\"arg_2:\", arg_2)\n",
    "    print(\"arg_3:\", arg_3)\n",
    "\n",
    "args = (\"Sammy\", \"Casey\", \"Alex\")\n",
    "some_args(*args)"
   ]
  },
  {
   "cell_type": "code",
   "execution_count": 70,
   "metadata": {},
   "outputs": [
    {
     "name": "stdout",
     "output_type": "stream",
     "text": [
      "arg_1: 1\n",
      "arg_2: 2\n",
      "arg_3: 3\n"
     ]
    }
   ],
   "source": [
    "def some_args(arg_1, arg_2, arg_3):\n",
    "    print(\"arg_1:\", arg_1)\n",
    "    print(\"arg_2:\", arg_2)\n",
    "    print(\"arg_3:\", arg_3)\n",
    "\n",
    "my_list = [2, 3]\n",
    "some_args(1, *my_list)"
   ]
  },
  {
   "cell_type": "code",
   "execution_count": 71,
   "metadata": {},
   "outputs": [
    {
     "name": "stdout",
     "output_type": "stream",
     "text": [
      "kwarg_1: Val\n",
      "kwarg_2: Harper\n",
      "kwarg_3: Remy\n"
     ]
    }
   ],
   "source": [
    "def some_kwargs(kwarg_1, kwarg_2, kwarg_3):\n",
    "    print(\"kwarg_1:\", kwarg_1)\n",
    "    print(\"kwarg_2:\", kwarg_2)\n",
    "    print(\"kwarg_3:\", kwarg_3)\n",
    "\n",
    "kwargs = {\"kwarg_1\": \"Val\", \"kwarg_2\": \"Harper\", \"kwarg_3\": \"Remy\"}\n",
    "some_kwargs(**kwargs)"
   ]
  },
  {
   "cell_type": "markdown",
   "metadata": {},
   "source": [
    "## Anonymous functions\n",
    "- anonymous: not declared in the standard manner by using the def keyword.\n",
    "- you can use the lambda keyword to create small anonymous functions\n",
    "- features:\n",
    "    - can take any number of arguments but return just one value in the form of an expression\n",
    "    - they cannot contain commands or multiple expressions.\n",
    "    - an anonymous function cannot be a direct call to print because lambda requires an expression.\n",
    "    - lambda functions have their own local namespace and cannot access variables other than those in their parameter list and those in the global namespace."
   ]
  },
  {
   "cell_type": "raw",
   "metadata": {},
   "source": [
    "# Syntax: only a single statement\n",
    "lambda [arg1 [,arg2,.....argn]]:expression"
   ]
  },
  {
   "cell_type": "code",
   "execution_count": 72,
   "metadata": {},
   "outputs": [
    {
     "name": "stdout",
     "output_type": "stream",
     "text": [
      "Value of total :  30\n",
      "Value of total :  40\n"
     ]
    }
   ],
   "source": [
    "# Function definition is here\n",
    "cal_sum = lambda arg1, arg2: arg1 + arg2\n",
    "\n",
    "# Now you can call cal_sum as a function\n",
    "print(\"Value of total : \", cal_sum( 10, 20 ))\n",
    "print(\"Value of total : \", cal_sum( 20, 20 ))"
   ]
  },
  {
   "cell_type": "markdown",
   "metadata": {},
   "source": [
    "## Return statement\n",
    "- it's not compulsory\n",
    "- if we haven't put a return statement in a function, then the return statement is return None"
   ]
  },
  {
   "cell_type": "code",
   "execution_count": 73,
   "metadata": {},
   "outputs": [
    {
     "name": "stdout",
     "output_type": "stream",
     "text": [
      "Inside the function :  30\n",
      "Outside the function :  30\n"
     ]
    }
   ],
   "source": [
    "# Function definition is here\n",
    "def cal_sum( arg1, arg2 ):\n",
    "    # Add both the parameters and return them.\"\n",
    "    total = arg1 + arg2\n",
    "    print(\"Inside the function : \", total)\n",
    "    return total\n",
    "\n",
    "# Now you can call cal_sum function\n",
    "total = cal_sum( 10, 20 )\n",
    "print(\"Outside the function : \", total )\n",
    "\n",
    "# WHAT IF I COMMENT OUT THE RETURN STATEMENT IN cal_sum FUNCTION?"
   ]
  },
  {
   "cell_type": "markdown",
   "metadata": {},
   "source": [
    "## Global Variables and Local Variables\n",
    "- local variables:\n",
    "    - variables that are defined inside a function body\n",
    "    - can be accessed only inside the function in which they are declared\n",
    "- global variables:\n",
    "    - variables defined outside all the functions\n",
    "    - can be accessed throughout the program body by all functions"
   ]
  },
  {
   "cell_type": "code",
   "execution_count": 74,
   "metadata": {},
   "outputs": [
    {
     "name": "stdout",
     "output_type": "stream",
     "text": [
      "Inside the function local total :  30\n",
      "Outside the function global total :  0\n"
     ]
    }
   ],
   "source": [
    "total = 0   # This is global variable.\n",
    "# Function definition is here\n",
    "def cal_sum( arg1, arg2 ):\n",
    "    # Add both the parameters and return them.\"\n",
    "    total = arg1 + arg2; # Here total is local variable.\n",
    "    print(\"Inside the function local total : \", total)\n",
    "    return total\n",
    "\n",
    "# Now you can call cal_sum function\n",
    "cal_sum( 10, 20 )\n",
    "print (\"Outside the function global total : \", total )\n",
    "\n",
    "# WHAT IF WE COMMENT OUT THE total = arg1 + arg2?"
   ]
  }
 ],
 "metadata": {
  "kernelspec": {
   "display_name": "Python 3",
   "language": "python",
   "name": "python3"
  },
  "language_info": {
   "codemirror_mode": {
    "name": "ipython",
    "version": 3
   },
   "file_extension": ".py",
   "mimetype": "text/x-python",
   "name": "python",
   "nbconvert_exporter": "python",
   "pygments_lexer": "ipython3",
   "version": "3.7.4"
  }
 },
 "nbformat": 4,
 "nbformat_minor": 1
}
