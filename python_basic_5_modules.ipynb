{
 "cells": [
  {
   "cell_type": "markdown",
   "metadata": {},
   "source": [
    "## Common Jupyter operations\n",
    "\n",
    "Near the top of the https://try.jupyter.org page, Jupyter provides a row of menu options (`File`, `Edit`, `View`, `Insert`, ...) and a row of tool bar icons (disk, plus sign, scissors, 2 files, clipboard and file, up arrow, ...).\n",
    "\n",
    "#### Inserting and removing cells\n",
    "\n",
    "- Use the \"plus sign\" icon to insert a cell below the currently selected cell\n",
    "- Use \"Insert\" -> \"Insert Cell Above\" from the menu to insert above\n",
    "\n",
    "#### Clear the output of all cells\n",
    "\n",
    "- Use \"Kernel\" -> \"Restart\" from the menu to restart the kernel\n",
    "    - click on \"clear all outputs & restart\" to have all the output cleared\n",
    "\n",
    "#### Save your notebook file locally\n",
    "\n",
    "- Clear the output of all cells\n",
    "- Use \"File\" -> \"Download as\" -> \"IPython Notebook (.ipynb)\" to download a notebook file representing your https://try.jupyter.org session\n",
    "\n",
    "#### Load your notebook file in try.jupyter.org\n",
    "\n",
    "1. Visit https://try.jupyter.org\n",
    "2. Click the \"Upload\" button near the upper right corner\n",
    "3. Navigate your filesystem to find your `*.ipynb` file and click \"open\"\n",
    "4. Click the new \"upload\" button that appears next to your file name\n",
    "5. Click on your uploaded notebook file\n",
    "\n",
    "<hr>"
   ]
  },
  {
   "cell_type": "markdown",
   "metadata": {},
   "source": [
    "## References\n",
    "\n",
    "- https://try.jupyter.org\n",
    "- https://docs.python.org/3/tutorial/index.html\n",
    "- https://docs.python.org/3/tutorial/introduction.html\n",
    "- https://daringfireball.net/projects/markdown/syntax\n",
    "- https://www.tutorialspoint.com/python3\n",
    "\n",
    "<hr>"
   ]
  },
  {
   "cell_type": "markdown",
   "metadata": {},
   "source": [
    "Before reading this materials, you should know:\n",
    "- how to run jupyter notebook\n",
    "- python comments\n",
    "    - single line comment : #\n",
    "    - multiple line comment (triple single quotes) : ''' and '''"
   ]
  },
  {
   "cell_type": "markdown",
   "metadata": {},
   "source": [
    "# Check if you are using python3"
   ]
  },
  {
   "cell_type": "code",
   "execution_count": 1,
   "metadata": {},
   "outputs": [
    {
     "data": {
      "text/plain": [
       "'3.5.2 (default, Jun 29 2016, 13:42:59) \\n[GCC 4.2.1 Compatible Apple LLVM 7.0.2 (clang-700.1.81)]'"
      ]
     },
     "execution_count": 1,
     "metadata": {},
     "output_type": "execute_result"
    }
   ],
   "source": [
    "import sys\n",
    "sys.version"
   ]
  },
  {
   "cell_type": "markdown",
   "metadata": {},
   "source": [
    "# Modules\n",
    "- A module is a file consisting of Python code\n",
    "    - we typically wrap up a list of functions or classes in a single file, so that this file is used for a type of function\n",
    "- A module can define functions, classes and variables\n",
    "- Grouping related code into a module makes the code easier to understand and use\n",
    "- types\n",
    "    - build-in modules, e.g. import sys; import os\n",
    "    - user-defined modules"
   ]
  },
  {
   "cell_type": "code",
   "execution_count": 2,
   "metadata": {
    "collapsed": true
   },
   "outputs": [],
   "source": [
    "# Let's create a file called support.py under the directory we are running jupyter notebook"
   ]
  },
  {
   "cell_type": "markdown",
   "metadata": {},
   "source": [
    "## import statement\n",
    "- You can use any Python source file as a module by executing an import statement in some other Python source file\n",
    "- When the interpreter encounters an import statement, it imports the module if the module is present in the search path\n",
    "- A search path is a list of directories that the interpreter searches before importing a module"
   ]
  },
  {
   "cell_type": "code",
   "execution_count": 3,
   "metadata": {},
   "outputs": [
    {
     "name": "stdout",
     "output_type": "stream",
     "text": [
      "Hello :  Zara\n"
     ]
    }
   ],
   "source": [
    "# Import module support\n",
    "# python will search the CURRENT WORKING DIRECTORY first\n",
    "import support\n",
    "\n",
    "# Now you can call defined function that module as follows\n",
    "# call the functions in a module by dot operator! treat a module as an object\n",
    "support.print_func(\"Zara\")"
   ]
  },
  {
   "cell_type": "markdown",
   "metadata": {},
   "source": [
    "## from import statement\n",
    "- Python's from statement lets you import specific attributes from a module into the current namespace."
   ]
  },
  {
   "cell_type": "code",
   "execution_count": 4,
   "metadata": {},
   "outputs": [
    {
     "name": "stdout",
     "output_type": "stream",
     "text": [
      "Hello :  hello\n"
     ]
    },
    {
     "data": {
      "text/plain": [
       "[1, 1, 2, 3, 5, 8]"
      ]
     },
     "execution_count": 4,
     "metadata": {},
     "output_type": "execute_result"
    }
   ],
   "source": [
    "from support import print_func\n",
    "\n",
    "print_func('hello')\n",
    "\n",
    "from support import fib\n",
    "\n",
    "fib(10)"
   ]
  },
  {
   "cell_type": "code",
   "execution_count": 5,
   "metadata": {
    "collapsed": true
   },
   "outputs": [],
   "source": [
    "# You have to restart the kenerl every time you update the support.py!!!!"
   ]
  },
  {
   "cell_type": "markdown",
   "metadata": {},
   "source": [
    "## from import * statement"
   ]
  },
  {
   "cell_type": "code",
   "execution_count": 6,
   "metadata": {},
   "outputs": [
    {
     "name": "stdout",
     "output_type": "stream",
     "text": [
      "Hello :  hello\n"
     ]
    },
    {
     "data": {
      "text/plain": [
       "[1, 1, 2, 3, 5, 8]"
      ]
     },
     "execution_count": 6,
     "metadata": {},
     "output_type": "execute_result"
    }
   ],
   "source": [
    "# good practice: not recommended to use import * unless you are not sure which function or class you need\n",
    "# recommend you to explicitly show the function or class names for import statement\n",
    "from support import *\n",
    "\n",
    "print_func('hello')\n",
    "\n",
    "fib(10)"
   ]
  },
  {
   "cell_type": "code",
   "execution_count": 7,
   "metadata": {},
   "outputs": [
    {
     "name": "stdout",
     "output_type": "stream",
     "text": [
      "Hello :  hello\n"
     ]
    }
   ],
   "source": [
    "# renaming: as keyword\n",
    "from support import print_func as my_print\n",
    "\n",
    "my_print('hello')"
   ]
  },
  {
   "cell_type": "code",
   "execution_count": 8,
   "metadata": {},
   "outputs": [
    {
     "name": "stdout",
     "output_type": "stream",
     "text": [
      "Hello :  hello\n"
     ]
    }
   ],
   "source": [
    "# module in a relative directory\n",
    "# - support_functions (folder name)\n",
    "#   - support.py (a file in this folder)\n",
    "from support_functions.support import print_func as my_print\n",
    "\n",
    "my_print('hello')"
   ]
  },
  {
   "cell_type": "markdown",
   "metadata": {},
   "source": [
    "## Executing Modules as Scripts\n",
    "- Within a module, the module’s name (as a string) is available as the value of the global variable __name__. \n",
    "- The code in the module will be executed, just as if you imported it, but with the __name__ set to \"__main__\""
   ]
  },
  {
   "cell_type": "code",
   "execution_count": 9,
   "metadata": {},
   "outputs": [
    {
     "name": "stdout",
     "output_type": "stream",
     "text": [
      "[1, 1, 2, 3, 5, 8, 13, 21, 34, 55, 89]\n"
     ]
    }
   ],
   "source": [
    "def fib(n): # return Fibonacci series up to n\n",
    "    result = []\n",
    "    a, b = 0, 1\n",
    "    while b < n:\n",
    "      result.append(b)\n",
    "      a, b = b, a + b\n",
    "    return result\n",
    "if __name__ == \"__main__\": # play the similar role with the 'int main(){} in cpp. Entrance of the python program'\n",
    "    f = fib(100)\n",
    "    print(f)"
   ]
  },
  {
   "cell_type": "code",
   "execution_count": 10,
   "metadata": {
    "collapsed": true
   },
   "outputs": [],
   "source": [
    "# show how to write __name__ == '__main__' in pycharm"
   ]
  },
  {
   "cell_type": "markdown",
   "metadata": {},
   "source": [
    "## Locating Modules\n",
    "- When you import a module, the Python interpreter searches for the module in the following sequences\n",
    "    - The current working directory. i.e. the directory your are running python\n",
    "    - If the module is not found, Python then searches each directory in the environment variable PYTHONPATH\n",
    "    - If all else fails, Python checks the default path.\n",
    "- you can check all the search paths by means of sys.path"
   ]
  },
  {
   "cell_type": "code",
   "execution_count": 11,
   "metadata": {},
   "outputs": [
    {
     "name": "stdout",
     "output_type": "stream",
     "text": [
      "['', '/Users/charles/Documents/ML/xgboost/xgboost/python-package', '/usr/local/Cellar/python3/3.5.2/Frameworks/Python.framework/Versions/3.5/lib/python35.zip', '/usr/local/Cellar/python3/3.5.2/Frameworks/Python.framework/Versions/3.5/lib/python3.5', '/usr/local/Cellar/python3/3.5.2/Frameworks/Python.framework/Versions/3.5/lib/python3.5/plat-darwin', '/usr/local/Cellar/python3/3.5.2/Frameworks/Python.framework/Versions/3.5/lib/python3.5/lib-dynload', '/usr/local/Cellar/python3/3.5.2/Frameworks/Python.framework/Versions/3.5/lib/python3.5/site-packages', '/usr/local/Cellar/python3/3.5.2/Frameworks/Python.framework/Versions/3.5/lib/python3.5/site-packages/IPython/extensions', '/Users/charles/.ipython']\n"
     ]
    }
   ],
   "source": [
    "import sys\n",
    "print(sys.path)# contains the current directory, PYTHONPATH, and the installation-dependent default"
   ]
  },
  {
   "cell_type": "code",
   "execution_count": 12,
   "metadata": {},
   "outputs": [
    {
     "name": "stdout",
     "output_type": "stream",
     "text": [
      "current working directory is /Users/charles/Documents/CUHK_SZ_2018/python/ref/notebook\n",
      "current PYTHONPATH is /Users/charles/Documents/ML/xgboost/xgboost/python-package\n"
     ]
    }
   ],
   "source": [
    "import os\n",
    "cur_working_dir = os.getcwd()\n",
    "python_path = os.environ['PYTHONPATH']\n",
    "print('current working directory is {}'.format(cur_working_dir))\n",
    "print('current PYTHONPATH is {}'.format(python_path))"
   ]
  },
  {
   "cell_type": "code",
   "execution_count": 13,
   "metadata": {},
   "outputs": [
    {
     "data": {
      "text/plain": [
       "'/usr/local/Cellar/python3/3.5.2/Frameworks/Python.framework/Versions/3.5/lib/python3.5/site-packages/numpy/__init__.py'"
      ]
     },
     "execution_count": 13,
     "metadata": {},
     "output_type": "execute_result"
    }
   ],
   "source": [
    "import numpy\n",
    "numpy.__file__ # here is the numpy's directory"
   ]
  },
  {
   "cell_type": "raw",
   "metadata": {},
   "source": [
    "# set the PYTHONPATH\n",
    "# when you put support.py in a another folder, how to import support?\n",
    "# in windows, open command line, and\n",
    "set PYTHONPATH = [the support.py's path];\n",
    "# in linux or mac osx,\n",
    "export PYTHONPATH = [the support.py's path];"
   ]
  },
  {
   "cell_type": "markdown",
   "metadata": {},
   "source": [
    "## Install new packages -- install your first package first\n",
    "- anaconda\n",
    "- pycharm\n",
    "- pip install\n",
    "    - [ref](https://packaging.python.org/tutorials/installing-packages/)"
   ]
  },
  {
   "cell_type": "markdown",
   "metadata": {},
   "source": [
    "## Package Structure\n",
    "- A package is a hierarchical file directory structure that defines a single Python application environment\n",
    "- consists of:\n",
    "    - modules\n",
    "    - subpackages\n",
    "    - sub-subpackages\n",
    "    - ...\n",
    "- e.g. numpy, pandas"
   ]
  },
  {
   "cell_type": "markdown",
   "metadata": {},
   "source": [
    "### example\n",
    "- we want to write a package for phone. The folder structure is shown below\n",
    "- phone\n",
    "    - \\__init__.py : help indicate its a package. It's optional in python3.3+\n",
    "    - brand.py\n",
    "    - isdn.py\n",
    "    - network.py"
   ]
  },
  {
   "cell_type": "code",
   "execution_count": 14,
   "metadata": {},
   "outputs": [],
   "source": [
    "# To make all of your functions available when you have imported Phone\n",
    "# you need to put explicit import statements in __init__.py as follows\n",
    "# __init__.py file:\n",
    "# from phone.brand import brand\n",
    "# from phone.isdn import isdn\n",
    "# from phone.network import network"
   ]
  },
  {
   "cell_type": "code",
   "execution_count": 15,
   "metadata": {},
   "outputs": [
    {
     "name": "stdout",
     "output_type": "stream",
     "text": [
      "I'm using iPhone\n",
      "my isdn is 8888\n",
      "my network is 5g\n"
     ]
    }
   ],
   "source": [
    "import phone # when we import phone, python will call __init__.py first under the current working directory\n",
    "phone.brand()\n",
    "phone.isdn()\n",
    "phone.network()"
   ]
  },
  {
   "cell_type": "code",
   "execution_count": 16,
   "metadata": {
    "collapsed": true
   },
   "outputs": [],
   "source": [
    "# we can ignore __init__.py in python3.3+\n",
    "# __init__.py still works in python3.3+"
   ]
  }
 ],
 "metadata": {
  "kernelspec": {
   "display_name": "Python 3",
   "language": "python",
   "name": "python3"
  },
  "language_info": {
   "codemirror_mode": {
    "name": "ipython",
    "version": 3
   },
   "file_extension": ".py",
   "mimetype": "text/x-python",
   "name": "python",
   "nbconvert_exporter": "python",
   "pygments_lexer": "ipython3",
   "version": "3.7.4"
  }
 },
 "nbformat": 4,
 "nbformat_minor": 1
}
