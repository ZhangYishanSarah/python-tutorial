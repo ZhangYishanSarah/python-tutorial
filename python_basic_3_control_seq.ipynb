{
 "cells": [
  {
   "cell_type": "markdown",
   "metadata": {},
   "source": [
    "## Common Jupyter operations\n",
    "\n",
    "Near the top of the https://try.jupyter.org page, Jupyter provides a row of menu options (`File`, `Edit`, `View`, `Insert`, ...) and a row of tool bar icons (disk, plus sign, scissors, 2 files, clipboard and file, up arrow, ...).\n",
    "\n",
    "#### Inserting and removing cells\n",
    "\n",
    "- Use the \"plus sign\" icon to insert a cell below the currently selected cell\n",
    "- Use \"Insert\" -> \"Insert Cell Above\" from the menu to insert above\n",
    "\n",
    "#### Clear the output of all cells\n",
    "\n",
    "- Use \"Kernel\" -> \"Restart\" from the menu to restart the kernel\n",
    "    - click on \"clear all outputs & restart\" to have all the output cleared\n",
    "\n",
    "#### Save your notebook file locally\n",
    "\n",
    "- Clear the output of all cells\n",
    "- Use \"File\" -> \"Download as\" -> \"IPython Notebook (.ipynb)\" to download a notebook file representing your https://try.jupyter.org session\n",
    "\n",
    "#### Load your notebook file in try.jupyter.org\n",
    "\n",
    "1. Visit https://try.jupyter.org\n",
    "2. Click the \"Upload\" button near the upper right corner\n",
    "3. Navigate your filesystem to find your `*.ipynb` file and click \"open\"\n",
    "4. Click the new \"upload\" button that appears next to your file name\n",
    "5. Click on your uploaded notebook file\n",
    "\n",
    "<hr>"
   ]
  },
  {
   "cell_type": "markdown",
   "metadata": {},
   "source": [
    "## References\n",
    "\n",
    "- https://try.jupyter.org\n",
    "- https://docs.python.org/3/tutorial/index.html\n",
    "- https://docs.python.org/3/tutorial/introduction.html\n",
    "- https://daringfireball.net/projects/markdown/syntax\n",
    "- https://www.tutorialspoint.com/python3\n",
    "\n",
    "<hr>"
   ]
  },
  {
   "cell_type": "markdown",
   "metadata": {},
   "source": [
    "Before reading this materials, you should know:\n",
    "- how to run jupyter notebook\n",
    "- python comments\n",
    "    - single line comment : #\n",
    "    - multiple line comment (triple single quotes) : ''' and '''"
   ]
  },
  {
   "cell_type": "markdown",
   "metadata": {},
   "source": [
    "# Check if you are using python3"
   ]
  },
  {
   "cell_type": "code",
   "execution_count": 1,
   "metadata": {},
   "outputs": [
    {
     "data": {
      "text/plain": [
       "'3.5.2 (default, Jun 29 2016, 13:42:59) \\n[GCC 4.2.1 Compatible Apple LLVM 7.0.2 (clang-700.1.81)]'"
      ]
     },
     "execution_count": 1,
     "metadata": {},
     "output_type": "execute_result"
    }
   ],
   "source": [
    "import sys\n",
    "sys.version"
   ]
  },
  {
   "cell_type": "markdown",
   "metadata": {},
   "source": [
    "# If/Else Statement\n",
    "- Decision Making Process\n",
    "- True:  do A\n",
    "- False: do B\n",
    "- non-zero and non-null values are evaluated as True\n",
    "- zero or null values is evaluated as False\n",
    "- types:\n",
    "    - if statement\n",
    "    - if else statement\n",
    "    - if elif else statement\n",
    "    - nested if statement"
   ]
  },
  {
   "cell_type": "code",
   "execution_count": 7,
   "metadata": {},
   "outputs": [
    {
     "name": "stdout",
     "output_type": "stream",
     "text": [
      "we will do something if expression is True\n"
     ]
    }
   ],
   "source": [
    "# if statement only:\n",
    "# syntax:\n",
    "# 1) no need to put a pair of parentheses for the expression\n",
    "# 2) put a ':' colon at the end of if statement\n",
    "expression = 1 + 1\n",
    "if expression:\n",
    "    print('we will do something if expression is True')"
   ]
  },
  {
   "cell_type": "code",
   "execution_count": 8,
   "metadata": {},
   "outputs": [
    {
     "name": "stdout",
     "output_type": "stream",
     "text": [
      "1 - Got a true expression value\n",
      "100\n",
      "Good bye!\n"
     ]
    }
   ],
   "source": [
    "var1 = 100\n",
    "if var1:\n",
    "    print(\"1 - Got a true expression value\")\n",
    "    print(var1)\n",
    "\n",
    "var2 = 0\n",
    "if var2:\n",
    "    print(\"2 - Got a true expression value\")\n",
    "    print(var2)\n",
    "print(\"Good bye!\")"
   ]
  },
  {
   "cell_type": "code",
   "execution_count": 9,
   "metadata": {},
   "outputs": [
    {
     "name": "stdout",
     "output_type": "stream",
     "text": [
      "we will do something if expression is False\n"
     ]
    }
   ],
   "source": [
    "# if else statement\n",
    "# syntax:\n",
    "# 1) no need to put a pair of bracets for the expression\n",
    "# 2) put a ':' colon at the end of if statement AS WELL AS else statement\n",
    "# 3) we use the same number of spaces to indicate the code block for if part and else part INSTEAD OF {} in CPP\n",
    "expression = 1 - 1\n",
    "if expression:# we don't need {}\n",
    "    print('we will do something if expression is True')\n",
    "else:\n",
    "    print('we will do something if expression is False')"
   ]
  },
  {
   "cell_type": "code",
   "execution_count": 11,
   "metadata": {},
   "outputs": [
    {
     "name": "stdout",
     "output_type": "stream",
     "text": [
      "Enter amount: 10\n",
      "Discount 0.5\n",
      "Net payable: 9.5\n"
     ]
    }
   ],
   "source": [
    "# input is function to wait for a user input\n",
    "# recommend argparse package for advanced usage\n",
    "amount = int(input(\"Enter amount: \"))\n",
    "\n",
    "if amount<1000:\n",
    "    discount = amount * 0.05\n",
    "    print(\"Discount\", discount)\n",
    "else:\n",
    "    discount = amount * 0.10\n",
    "    print(\"Discount\", discount)\n",
    "print(\"Net payable:\", amount - discount)"
   ]
  },
  {
   "cell_type": "code",
   "execution_count": 15,
   "metadata": {},
   "outputs": [
    {
     "name": "stdout",
     "output_type": "stream",
     "text": [
      "a > 3\n"
     ]
    }
   ],
   "source": [
    "# if elif else statement\n",
    "# no switch statement in python. We can only use if elif else statement\n",
    "# syntax:\n",
    "# 1) no need to put a pair of parentheses for the expression\n",
    "# 2) put a ':' colon at the end of if statement, elif statement AS WELL AS else statement\n",
    "# 3) we use the same number of spaces to indicate the code block for if part and else part INSTEAD OF {} in CPP\n",
    "a = 4\n",
    "expression1 = a > 3\n",
    "expression2 = a < 1 \n",
    "expression3 = a > 1.5\n",
    "\n",
    "if expression1:\n",
    "    print('a > 3')\n",
    "elif expression2:\n",
    "    print('a < 1')\n",
    "elif expression3:\n",
    "    print('1.5 < a <= 3')\n",
    "else:\n",
    "    print('else part')\n"
   ]
  },
  {
   "cell_type": "code",
   "execution_count": 17,
   "metadata": {},
   "outputs": [
    {
     "name": "stdout",
     "output_type": "stream",
     "text": [
      "Enter number: 8\n",
      "divisible by 2 not divisible by 3\n"
     ]
    }
   ],
   "source": [
    "# nested if statement\n",
    "# we can have an if...elif...else construct inside another if...elif...else construct.\n",
    "num = int(input(\"Enter number: \"))\n",
    "if num % 2 == 0:\n",
    "    if num % 3 == 0:\n",
    "        print(\"Divisible by 3 and 2\")\n",
    "    else:\n",
    "        print(\"divisible by 2 not divisible by 3\")\n",
    "else:\n",
    "    if num % 3 == 0:\n",
    "        print(\"divisible by 3 not divisible by 2\")\n",
    "    else:\n",
    "        print(\"not Divisible by 2 not divisible by 3\")"
   ]
  },
  {
   "cell_type": "code",
   "execution_count": 20,
   "metadata": {},
   "outputs": [
    {
     "name": "stdout",
     "output_type": "stream",
     "text": [
      "Value of expression is 100\n",
      "Good bye!\n"
     ]
    }
   ],
   "source": [
    "# single line statement suites : special cases (not recommended)\n",
    "var = 100\n",
    "# you can also remove the parentheses\n",
    "if(var == 100): print(\"Value of expression is 100\")\n",
    "print (\"Good bye!\")"
   ]
  },
  {
   "cell_type": "code",
   "execution_count": 22,
   "metadata": {},
   "outputs": [
    {
     "name": "stdout",
     "output_type": "stream",
     "text": [
      "5\n"
     ]
    }
   ],
   "source": [
    "# advanced usage -- one line if else statement\n",
    "a = 10\n",
    "value = 5 if a > 5 else 0\n",
    "print(value)"
   ]
  },
  {
   "cell_type": "markdown",
   "metadata": {},
   "source": [
    "# Loop statement\n",
    "- A loop statement allows us to execute a statement or group of statements multiple times\n",
    "    - while \n",
    "    - for\n",
    "    - nested while / for"
   ]
  },
  {
   "cell_type": "markdown",
   "metadata": {},
   "source": [
    "## while loop : \n",
    "- Repeats a statement or group of statements while a given condition is TRUE.\n",
    "- It tests the condition before executing the loop body.\n",
    "- comparing with cpp\n",
    "    - no need to put a pair of parentheses for the expression\n",
    "    - put a ':' colon at the end of while statement\n",
    "    - we use the same number of spaces to indicate the code block for while part INSTEAD OF {} in CPP"
   ]
  },
  {
   "cell_type": "raw",
   "metadata": {},
   "source": [
    "# Syntax:\n",
    "# statement(s) may be a single statement or a block of statements with uniform indent\n",
    "# The condition may be any expression, and true is any non-zero value.\n",
    "# The loop iterates while the condition is true\n",
    "while expression:\n",
    "   statement(s)"
   ]
  },
  {
   "cell_type": "code",
   "execution_count": 23,
   "metadata": {},
   "outputs": [
    {
     "name": "stdout",
     "output_type": "stream",
     "text": [
      "The count is: 0\n",
      "The count is: 1\n",
      "The count is: 2\n",
      "The count is: 3\n",
      "The count is: 4\n",
      "The count is: 5\n",
      "The count is: 6\n",
      "The count is: 7\n",
      "The count is: 8\n",
      "Good bye!\n"
     ]
    }
   ],
   "source": [
    "count = 0\n",
    "while count < 9: # you can also put a paranthese for the condition\n",
    "    print('The count is:', count)\n",
    "    count = count + 1\n",
    "# if count >= 9, then all the statements in the while won't be executed\n",
    "print(\"Good bye!\")"
   ]
  },
  {
   "cell_type": "code",
   "execution_count": 25,
   "metadata": {},
   "outputs": [
    {
     "name": "stdout",
     "output_type": "stream",
     "text": [
      "Enter a number :d\n"
     ]
    },
    {
     "ename": "ValueError",
     "evalue": "invalid literal for int() with base 10: 'd'",
     "output_type": "error",
     "traceback": [
      "\u001b[0;31m--------------------------------------------------------------------------\u001b[0m",
      "\u001b[0;31mValueError\u001b[0m                               Traceback (most recent call last)",
      "\u001b[0;32m<ipython-input-25-3f3b11399b88>\u001b[0m in \u001b[0;36m<module>\u001b[0;34m\u001b[0m\n\u001b[1;32m      4\u001b[0m \u001b[0mvar\u001b[0m \u001b[0;34m=\u001b[0m \u001b[0;36m1\u001b[0m\u001b[0;34m\u001b[0m\u001b[0m\n\u001b[1;32m      5\u001b[0m \u001b[0;32mwhile\u001b[0m \u001b[0mvar\u001b[0m \u001b[0;34m==\u001b[0m \u001b[0;36m1\u001b[0m \u001b[0;34m:\u001b[0m  \u001b[0;31m# This constructs an infinite loop\u001b[0m\u001b[0;34m\u001b[0m\u001b[0m\n\u001b[0;32m----> 6\u001b[0;31m     \u001b[0mnum\u001b[0m \u001b[0;34m=\u001b[0m \u001b[0mint\u001b[0m\u001b[0;34m(\u001b[0m\u001b[0minput\u001b[0m\u001b[0;34m(\u001b[0m\u001b[0;34m\"Enter a number :\"\u001b[0m\u001b[0;34m)\u001b[0m\u001b[0;34m)\u001b[0m\u001b[0;34m\u001b[0m\u001b[0m\n\u001b[0m\u001b[1;32m      7\u001b[0m     \u001b[0mprint\u001b[0m\u001b[0;34m(\u001b[0m\u001b[0;34m\"You entered: \"\u001b[0m\u001b[0;34m,\u001b[0m \u001b[0mnum\u001b[0m\u001b[0;34m)\u001b[0m\u001b[0;34m\u001b[0m\u001b[0m\n\u001b[1;32m      8\u001b[0m \u001b[0;34m\u001b[0m\u001b[0m\n",
      "\u001b[0;31mValueError\u001b[0m: invalid literal for int() with base 10: 'd'"
     ]
    }
   ],
   "source": [
    "# The infinite loop\n",
    "# A loop becomes infinite loop if a condition never becomes FALSE\n",
    "# give a stop condition please!\n",
    "var = 1\n",
    "while var == 1 :  # This constructs an infinite loop\n",
    "    num = int(input(\"Enter a number :\"))\n",
    "    print(\"You entered: \", num)\n",
    "\n",
    "print(\"Good bye!\")"
   ]
  },
  {
   "cell_type": "code",
   "execution_count": 27,
   "metadata": {},
   "outputs": [
    {
     "name": "stdout",
     "output_type": "stream",
     "text": [
      "Given flag is really true!\n",
      "Given flag is really true!\n",
      "Given flag is really true!\n",
      "Given flag is really true!\n",
      "Given flag is really true!\n",
      "Good bye!\n"
     ]
    }
   ],
   "source": [
    "# single statement suites\n",
    "flag = 5\n",
    "while (flag): print('Given flag is really true!'); flag -= 1\n",
    "print (\"Good bye!\")"
   ]
  },
  {
   "cell_type": "markdown",
   "metadata": {},
   "source": [
    "## for loop : \n",
    "- Executes a sequence of statements multiple times and abbreviates the code that manages the loop variable.\n",
    "- iterate over the items of any sequence, such as a list or a string."
   ]
  },
  {
   "cell_type": "raw",
   "metadata": {},
   "source": [
    "# Syntax:\n",
    "for iterating_var in sequence:\n",
    "   statements(s)\n",
    "# 1) If a sequence contains an expression list, it is evaluated first. \n",
    "# 2) Then, the first item in the sequence is assigned to the iterating variable iterating_var. \n",
    "# 3) Next, the statements block is executed. \n",
    "# 4) Each item in the list is assigned to iterating_var, and the statement(s) block is executed \n",
    "# 5) until the entire sequence is exhausted."
   ]
  },
  {
   "cell_type": "code",
   "execution_count": 33,
   "metadata": {},
   "outputs": [
    {
     "data": {
      "text/plain": [
       "range(0, 5)"
      ]
     },
     "execution_count": 33,
     "metadata": {},
     "output_type": "execute_result"
    }
   ],
   "source": [
    "# range(n) function\n",
    "# range(n) function in python2 will directly generate a list\n",
    "# range(n) function in python3 will generate a range() type\n",
    "# its value is the continous integer sequence from 0 to n-1\n",
    "range(5)"
   ]
  },
  {
   "cell_type": "code",
   "execution_count": 34,
   "metadata": {},
   "outputs": [
    {
     "data": {
      "text/plain": [
       "range"
      ]
     },
     "execution_count": 34,
     "metadata": {},
     "output_type": "execute_result"
    }
   ],
   "source": [
    "type(range(5))"
   ]
  },
  {
   "cell_type": "code",
   "execution_count": 35,
   "metadata": {},
   "outputs": [
    {
     "data": {
      "text/plain": [
       "[0, 1, 2, 3, 4]"
      ]
     },
     "execution_count": 35,
     "metadata": {},
     "output_type": "execute_result"
    }
   ],
   "source": [
    "# convert to list\n",
    "list(range(5))"
   ]
  },
  {
   "cell_type": "code",
   "execution_count": 36,
   "metadata": {},
   "outputs": [
    {
     "name": "stdout",
     "output_type": "stream",
     "text": [
      "0\n",
      "1\n",
      "2\n",
      "3\n",
      "4\n"
     ]
    }
   ],
   "source": [
    "# for with range() function\n",
    "for i in range(5):\n",
    "    print(i)"
   ]
  },
  {
   "cell_type": "code",
   "execution_count": 37,
   "metadata": {},
   "outputs": [
    {
     "name": "stdout",
     "output_type": "stream",
     "text": [
      "Current Letter : P\n",
      "Current Letter : y\n",
      "Current Letter : t\n",
      "Current Letter : h\n",
      "Current Letter : o\n",
      "Current Letter : n\n"
     ]
    }
   ],
   "source": [
    "# for loop the string\n",
    "for letter in 'Python':     # traversal of a string sequence\n",
    "    print('Current Letter :', letter)"
   ]
  },
  {
   "cell_type": "code",
   "execution_count": 38,
   "metadata": {},
   "outputs": [
    {
     "name": "stdout",
     "output_type": "stream",
     "text": [
      "Current fruit : banana\n",
      "Current fruit : apple\n",
      "Current fruit : mango\n",
      "Good bye!\n"
     ]
    }
   ],
   "source": [
    "# for loop the list\n",
    "fruits = ['banana', 'apple',  'mango']\n",
    "\n",
    "for fruit in fruits:        # traversal of List sequence\n",
    "    print('Current fruit :', fruit)\n",
    "\n",
    "print(\"Good bye!\")"
   ]
  },
  {
   "cell_type": "code",
   "execution_count": 39,
   "metadata": {},
   "outputs": [
    {
     "name": "stdout",
     "output_type": "stream",
     "text": [
      "Current fruit : banana\n",
      "Current fruit : apple\n",
      "Current fruit : mango\n",
      "Good bye!\n"
     ]
    }
   ],
   "source": [
    "# for loop the sequence index\n",
    "fruits = ['banana', 'apple',  'mango']\n",
    "for index in range(len(fruits)):\n",
    "    print('Current fruit :', fruits[index])\n",
    "\n",
    "print (\"Good bye!\")"
   ]
  },
  {
   "cell_type": "code",
   "execution_count": 58,
   "metadata": {},
   "outputs": [
    {
     "name": "stdout",
     "output_type": "stream",
     "text": [
      "key = Class\tvalue = First\n",
      "key = Age\tvalue = 7\n",
      "key = Name\tvalue = Zara\n"
     ]
    }
   ],
   "source": [
    "# for loop the dictionary\n",
    "dict1 = {'Name': 'Zara', 'Age': 7, 'Class': 'First'}\n",
    "for key, value in dict1.items():\n",
    "    print('key = {}\\tvalue = {}'.format(key, value))"
   ]
  },
  {
   "cell_type": "markdown",
   "metadata": {},
   "source": [
    "# Nested loop\n",
    "- the usage of one loop inside another loop\n",
    "- nested for\n",
    "- nested while"
   ]
  },
  {
   "cell_type": "raw",
   "metadata": {},
   "source": [
    "# Syntax for nested loop:\n",
    "for iterating_var in sequence:\n",
    "   for iterating_var in sequence:\n",
    "      statements(s)\n",
    "   statements(s)\n",
    "\n",
    "# Syntax for nested while:\n",
    "while expression:\n",
    "   while expression:\n",
    "      statement(s)\n",
    "   statement(s)"
   ]
  },
  {
   "cell_type": "code",
   "execution_count": 44,
   "metadata": {},
   "outputs": [
    {
     "name": "stdout",
     "output_type": "stream",
     "text": [
      "1 2 3 4 5 6 7 8 9 10 \n",
      "2 4 6 8 10 12 14 16 18 20 \n",
      "3 6 9 12 15 18 21 24 27 30 \n",
      "4 8 12 16 20 24 28 32 36 40 \n",
      "5 10 15 20 25 30 35 40 45 50 \n",
      "6 12 18 24 30 36 42 48 54 60 \n",
      "7 14 21 28 35 42 49 56 63 70 \n",
      "8 16 24 32 40 48 56 64 72 80 \n",
      "9 18 27 36 45 54 63 72 81 90 \n",
      "10 20 30 40 50 60 70 80 90 100 \n"
     ]
    }
   ],
   "source": [
    "for i in range(1,11):\n",
    "    for j in range(1,11):\n",
    "        k = i*j\n",
    "        print(k, end=' ')# end with  ' ' instead of \\n\n",
    "        #print(str(k) + ' ') : try this and see the result\n",
    "    print()"
   ]
  },
  {
   "cell_type": "markdown",
   "metadata": {},
   "source": [
    "## break statement\n",
    "- Terminates the loop statement and transfers execution to the statement immediately following the loop.\n",
    "- The break statement can be used in both while and for loops\n",
    "- If you are using nested loops, the break statement stops the execution of the innermost loop \n",
    "- and starts executing the next line of the code after the block."
   ]
  },
  {
   "cell_type": "code",
   "execution_count": 46,
   "metadata": {},
   "outputs": [
    {
     "name": "stdout",
     "output_type": "stream",
     "text": [
      "Current Letter : P\n",
      "Current Letter : y\n",
      "Current Letter : t\n",
      "Current variable value : 10\n",
      "Current variable value : 9\n",
      "Current variable value : 8\n",
      "Current variable value : 7\n",
      "Current variable value : 6\n",
      "Good bye!\n"
     ]
    }
   ],
   "source": [
    "for letter in 'Python':     # First Example\n",
    "    if letter == 'h':\n",
    "        break\n",
    "    print('Current Letter :', letter)\n",
    "    \n",
    "var = 10                    # Second Example\n",
    "while var > 0:              \n",
    "    print ('Current variable value :', var)\n",
    "    var = var - 1\n",
    "    if var == 5:\n",
    "        break\n",
    "\n",
    "print (\"Good bye!\")"
   ]
  },
  {
   "cell_type": "code",
   "execution_count": 47,
   "metadata": {},
   "outputs": [
    {
     "name": "stdout",
     "output_type": "stream",
     "text": [
      "any number: 10\n",
      "number not found in list\n"
     ]
    }
   ],
   "source": [
    "no = int(input('any number: '))\n",
    "numbers = [11,33,55,39,55,75,37,21,23,41,13]\n",
    "\n",
    "for num in numbers:\n",
    "    if num == no:\n",
    "        print('number found in list')\n",
    "        break\n",
    "else:\n",
    "    print('number not found in list')"
   ]
  },
  {
   "cell_type": "markdown",
   "metadata": {},
   "source": [
    "## continue statement\n",
    "- Causes the loop to skip the remainder of its body and immediately retest its condition prior to reiterating.\n",
    "- The continue statement can be used in both while and for loops."
   ]
  },
  {
   "cell_type": "code",
   "execution_count": 48,
   "metadata": {
    "scrolled": false
   },
   "outputs": [
    {
     "name": "stdout",
     "output_type": "stream",
     "text": [
      "Current Letter : P\n",
      "Current Letter : y\n",
      "Current Letter : t\n",
      "Current Letter : o\n",
      "Current Letter : n\n",
      "Current variable value : 9\n",
      "Current variable value : 8\n",
      "Current variable value : 7\n",
      "Current variable value : 6\n",
      "Current variable value : 4\n",
      "Current variable value : 3\n",
      "Current variable value : 2\n",
      "Current variable value : 1\n",
      "Current variable value : 0\n",
      "Good bye!\n"
     ]
    }
   ],
   "source": [
    "for letter in 'Python':     # First Example\n",
    "    if letter == 'h':\n",
    "        continue\n",
    "    print('Current Letter :', letter)\n",
    "\n",
    "var = 10                    # Second Example\n",
    "while var > 0:              \n",
    "    var = var -1\n",
    "    if var == 5:\n",
    "        continue\n",
    "    print('Current variable value :', var)\n",
    "print(\"Good bye!\")"
   ]
  },
  {
   "cell_type": "markdown",
   "metadata": {},
   "source": [
    "## pass statement\n",
    "- The pass statement in Python is used when a statement is required syntactically \n",
    "- but you do not want any command or code to execute.\n",
    "- The pass statement is a null operation; nothing happens when it executes. \n",
    "- The pass statement is also useful in places where your code will eventually go\n",
    "- but has not been written yet i.e. in stubs."
   ]
  },
  {
   "cell_type": "code",
   "execution_count": 51,
   "metadata": {},
   "outputs": [
    {
     "name": "stdout",
     "output_type": "stream",
     "text": [
      "Current Letter : P\n",
      "Current Letter : y\n",
      "Current Letter : t\n",
      "This is pass block\n",
      "Current Letter : h\n",
      "Current Letter : o\n",
      "Current Letter : n\n",
      "Good bye!\n"
     ]
    }
   ],
   "source": [
    "for letter in 'Python': \n",
    "    if letter == 'h':\n",
    "        pass # do nothing\n",
    "        print('This is pass block')\n",
    "    print('Current Letter :', letter)\n",
    "\n",
    "print (\"Good bye!\")"
   ]
  },
  {
   "cell_type": "code",
   "execution_count": 52,
   "metadata": {
    "collapsed": true
   },
   "outputs": [],
   "source": [
    "# pass does nothing here but it let such piece of code is syntactically correct.\n",
    "# sometime you haven't decided yet what to do a > 10 and what to do a <=0. \n",
    "# you can try to put a pass first in this situation\n",
    "a = 10\n",
    "if a > 10:\n",
    "    pass\n",
    "else:\n",
    "    pass"
   ]
  },
  {
   "cell_type": "markdown",
   "metadata": {},
   "source": [
    "## Iterator\n",
    "- iterator is an OBJECT which allows a programmer to traverse through all the elements of a collection, regardless of its specific implementation. \n",
    "- In Python, an iterator object implements two methods, iter() and next().\n",
    "- String, List or Tuple objects can be used to create an Iterator."
   ]
  },
  {
   "cell_type": "code",
   "execution_count": null,
   "metadata": {},
   "outputs": [],
   "source": [
    "import sys\n",
    "list = [1,2,3,4]\n",
    "it = iter(list) # this builds an iterator object\n",
    "print(next(it)) #prints next available element in iterator\n",
    "\n",
    "#Iterator object can be traversed using regular for statement\n",
    "for x in it:\n",
    "    print(x, end=\" \")\n",
    "\n",
    "#or using next() function\n",
    "while True:\n",
    "    try:\n",
    "        print (next(it))\n",
    "    except StopIteration:\n",
    "        sys.exit() #you have to import sys module for this"
   ]
  },
  {
   "cell_type": "markdown",
   "metadata": {},
   "source": [
    "## Generator\n",
    "- A generator is a FUNCTION that produces or yields a sequence of values using yield method.\n",
    "- When a generator function is called, it returns a generator object without even beginning execution of the function\n",
    "- When the next() method is called for the first time, the function starts executing until it reaches the yield statement, which returns the yielded value.\n",
    "- The yield keeps track i.e. remembers the last execution and the second next() call continues from previous value.\n",
    "- It can save much memory space\n",
    "    - [ref](https://medium.freecodecamp.org/how-and-why-you-should-use-python-generators-f6fb56650888)"
   ]
  },
  {
   "cell_type": "markdown",
   "metadata": {},
   "source": [
    "## Why we need Iterators and Generators\n",
    "- They can save much memory space\n",
    "    - Lazy evaluation. Only compute the item when next() is called.\n",
    "    - [ref](https://medium.freecodecamp.org/how-and-why-you-should-use-python-generators-f6fb56650888)\n",
    "- They can only be iterated over once"
   ]
  },
  {
   "cell_type": "code",
   "execution_count": 55,
   "metadata": {},
   "outputs": [
    {
     "name": "stdout",
     "output_type": "stream",
     "text": [
      "0 1 1 2 3 5 "
     ]
    },
    {
     "ename": "SystemExit",
     "evalue": "",
     "output_type": "error",
     "traceback": [
      "An exception has occurred, use %tb to see the full traceback.\n",
      "\u001b[0;31mSystemExit\u001b[0m\n"
     ]
    }
   ],
   "source": [
    "# IMPORTANT EXAMPLE!!!\n",
    "import sys\n",
    "def fibonacci(n): #generator function\n",
    "    a, b, counter = 0, 1, 0\n",
    "    while True:\n",
    "        if (counter > n): \n",
    "             return\n",
    "        yield a\n",
    "        a, b = b, a + b\n",
    "        counter += 1\n",
    "f = fibonacci(5) #f is iterator object\n",
    "\n",
    "while True:\n",
    "    try:\n",
    "        print(next(f), end=\" \")\n",
    "    except StopIteration:\n",
    "        sys.exit()"
   ]
  }
 ],
 "metadata": {
  "kernelspec": {
   "display_name": "Python 3",
   "language": "python",
   "name": "python3"
  },
  "language_info": {
   "codemirror_mode": {
    "name": "ipython",
    "version": 3
   },
   "file_extension": ".py",
   "mimetype": "text/x-python",
   "name": "python",
   "nbconvert_exporter": "python",
   "pygments_lexer": "ipython3",
   "version": "3.7.4"
  }
 },
 "nbformat": 4,
 "nbformat_minor": 1
}
