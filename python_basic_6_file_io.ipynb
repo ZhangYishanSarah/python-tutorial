{
 "cells": [
  {
   "cell_type": "markdown",
   "metadata": {},
   "source": [
    "## Common Jupyter operations\n",
    "\n",
    "Near the top of the https://try.jupyter.org page, Jupyter provides a row of menu options (`File`, `Edit`, `View`, `Insert`, ...) and a row of tool bar icons (disk, plus sign, scissors, 2 files, clipboard and file, up arrow, ...).\n",
    "\n",
    "#### Inserting and removing cells\n",
    "\n",
    "- Use the \"plus sign\" icon to insert a cell below the currently selected cell\n",
    "- Use \"Insert\" -> \"Insert Cell Above\" from the menu to insert above\n",
    "\n",
    "#### Clear the output of all cells\n",
    "\n",
    "- Use \"Kernel\" -> \"Restart\" from the menu to restart the kernel\n",
    "    - click on \"clear all outputs & restart\" to have all the output cleared\n",
    "\n",
    "#### Save your notebook file locally\n",
    "\n",
    "- Clear the output of all cells\n",
    "- Use \"File\" -> \"Download as\" -> \"IPython Notebook (.ipynb)\" to download a notebook file representing your https://try.jupyter.org session\n",
    "\n",
    "#### Load your notebook file in try.jupyter.org\n",
    "\n",
    "1. Visit https://try.jupyter.org\n",
    "2. Click the \"Upload\" button near the upper right corner\n",
    "3. Navigate your filesystem to find your `*.ipynb` file and click \"open\"\n",
    "4. Click the new \"upload\" button that appears next to your file name\n",
    "5. Click on your uploaded notebook file\n",
    "\n",
    "<hr>"
   ]
  },
  {
   "cell_type": "markdown",
   "metadata": {},
   "source": [
    "## References\n",
    "\n",
    "- https://try.jupyter.org\n",
    "- https://docs.python.org/3/tutorial/index.html\n",
    "- https://docs.python.org/3/tutorial/introduction.html\n",
    "- https://daringfireball.net/projects/markdown/syntax\n",
    "- https://www.tutorialspoint.com/python3\n",
    "\n",
    "<hr>"
   ]
  },
  {
   "cell_type": "markdown",
   "metadata": {},
   "source": [
    "Before reading this materials, you should know:\n",
    "- how to run jupyter notebook\n",
    "- python comments\n",
    "    - single line comment : #\n",
    "    - multiple line comment (triple single quotes) : ''' and '''"
   ]
  },
  {
   "cell_type": "markdown",
   "metadata": {},
   "source": [
    "# Check if you are using python3"
   ]
  },
  {
   "cell_type": "code",
   "execution_count": 1,
   "metadata": {},
   "outputs": [
    {
     "data": {
      "text/plain": [
       "'3.5.2 (default, Jun 29 2016, 13:42:59) \\n[GCC 4.2.1 Compatible Apple LLVM 7.0.2 (clang-700.1.81)]'"
      ]
     },
     "execution_count": 1,
     "metadata": {},
     "output_type": "execute_result"
    }
   ],
   "source": [
    "import sys\n",
    "sys.version"
   ]
  },
  {
   "cell_type": "markdown",
   "metadata": {},
   "source": [
    "# Print to the screen"
   ]
  },
  {
   "cell_type": "code",
   "execution_count": 2,
   "metadata": {},
   "outputs": [
    {
     "name": "stdout",
     "output_type": "stream",
     "text": [
      "hello python\n"
     ]
    }
   ],
   "source": [
    "print('hello python')"
   ]
  },
  {
   "cell_type": "markdown",
   "metadata": {},
   "source": [
    "# Reading keyboard input\n",
    "- input()\n",
    "- raw_input(): from python2. is deprecated in python3"
   ]
  },
  {
   "cell_type": "code",
   "execution_count": 3,
   "metadata": {},
   "outputs": [
    {
     "name": "stdout",
     "output_type": "stream",
     "text": [
      "enter:10\n"
     ]
    }
   ],
   "source": [
    "x = input('enter:')"
   ]
  },
  {
   "cell_type": "code",
   "execution_count": 4,
   "metadata": {},
   "outputs": [
    {
     "data": {
      "text/plain": [
       "'10'"
      ]
     },
     "execution_count": 4,
     "metadata": {},
     "output_type": "execute_result"
    }
   ],
   "source": [
    "x # input returns string"
   ]
  },
  {
   "cell_type": "markdown",
   "metadata": {},
   "source": [
    "# Open and close files\n",
    "- open()\n",
    "- file object\n",
    "- close()"
   ]
  },
  {
   "cell_type": "raw",
   "metadata": {},
   "source": [
    "# Systax: input a file_name, and return a file object\n",
    "file object = open(file_name [, access_mode][, buffering])"
   ]
  },
  {
   "cell_type": "markdown",
   "metadata": {},
   "source": [
    "- parameters:\n",
    "    - file_name: The file_name argument is a string value that contains the name of the file that you want to access.\n",
    "    - access_mode : The access_mode determines the mode in which the file has to be opened, i.e., read, write, append, etc. A complete list of possible values is given below in the table. This is an optional parameter and the default file access mode is read (r)\n",
    "    - buffering : If the buffering value is set to 0, no buffering takes place. If the buffering value is 1, line buffering is performed while accessing a file. If you specify the buffering value as an integer greater than 1, then buffering action is performed with the indicated buffer size. If negative, the buffer size is the system default(default behavior)."
   ]
  },
  {
   "cell_type": "markdown",
   "metadata": {},
   "source": [
    "- access_mode:\n",
    "    - **r** : **(default)** Opens a file for **reading only**. (**CANNOT BE WRITTEN**) The file pointer is placed at the beginning of the file. This is the default mode.\n",
    "    - rb : Opens a file for reading only in binary format. The file pointer is placed at the beginning of the file. This is the default mode.\n",
    "    - **r+** : Opens a file for both reading and writing. The file pointer placed at the beginning of the file.\n",
    "    - rb+ : Opens a file for both reading and writing in binary format. The file pointer placed at the beginning of the file.\n",
    "    - w : Opens a file for **writing only**.(**CANNOT BE READ**) Overwrites the file if the file exists. If the file does not exist, creates a new file for writing.\n",
    "    - wb : Opens a file for writing only in binary format. Overwrites the file if the file exists. If the file does not exist, creates a new file for writing.\n",
    "    - **w+** : Opens a file for both writing and reading. Overwrites the existing file if the file exists. If the file does not exist, creates a new file for reading and writing.\n",
    "    - wb+ : Opens a file for both writing and reading in binary format. Overwrites the existing file if the file exists. If the file does not exist, creates a new file for reading and writing.\n",
    "    - a : Opens a file for appending. The file pointer is at the end of the file if the file exists. That is, the file is in the append mode. If the file does not exist, it creates a new file for writing.\n",
    "    - ab : Opens a file for appending in binary format. The file pointer is at the end of the file if the file exists. That is, the file is in the append mode. If the file does not exist, it creates a new file for writing.\n",
    "    - a+ : Opens a file for both appending and reading. The file pointer is at the end of the file if the file exists. The file opens in the append mode. If the file does not exist, it creates a new file for reading and writing.\n",
    "    - ab+ : Opens a file for both appending and reading in binary format. The file pointer is at the end of the file if the file exists. The file opens in the append mode. If the file does not exist, it creates a new file for reading and writing.\n"
   ]
  },
  {
   "cell_type": "markdown",
   "metadata": {},
   "source": [
    "## file object\n",
    "- file.closed: Returns true if file is closed, false otherwise.\n",
    "- file.mode:   Returns access mode with which file was opened.\n",
    "- file.name:   Returns name of the file"
   ]
  },
  {
   "cell_type": "markdown",
   "metadata": {},
   "source": [
    "## close() method:\n",
    "-  The close() method of a file object flushes any unwritten information and closes the file object, after which no more writing can be done.\n",
    "- **It is a good practice to use the close() method to close a file.**"
   ]
  },
  {
   "cell_type": "code",
   "execution_count": 5,
   "metadata": {},
   "outputs": [
    {
     "name": "stdout",
     "output_type": "stream",
     "text": [
      "Name of the file:  foo.txt\n",
      "Closed or not :  False\n",
      "Opening mode :  wb\n"
     ]
    }
   ],
   "source": [
    "fo = open(\"foo.txt\", \"wb\")\n",
    "print (\"Name of the file: \", fo.name)\n",
    "print (\"Closed or not : \", fo.closed)\n",
    "print (\"Opening mode : \", fo.mode)\n",
    "fo.close()"
   ]
  },
  {
   "cell_type": "markdown",
   "metadata": {},
   "source": [
    "# Reading and writing files"
   ]
  },
  {
   "cell_type": "markdown",
   "metadata": {},
   "source": [
    "## write( ) method\n",
    "- The write() method writes any string to an open file.\n",
    "- It is important to note that Python strings can have binary data and not just text.\n",
    "- **The write( ) method does not add a newline character ('\\n') to the end of the string**\n",
    "- syntax: **fileobject.write(string)**"
   ]
  },
  {
   "cell_type": "code",
   "execution_count": 6,
   "metadata": {
    "collapsed": true
   },
   "outputs": [],
   "source": [
    "# Open a file\n",
    "fo = open(\"foo.txt\", \"w\")\n",
    "fo.write( \"Python is a great language.\\nYeah its great!!\\n\")\n",
    "\n",
    "# Close opend file\n",
    "fo.close()\n",
    "\n",
    "# you can see a file called foo.txt in your current working directory"
   ]
  },
  {
   "cell_type": "markdown",
   "metadata": {},
   "source": [
    "## read( ) method\n",
    "- The read() method reads a string from an open file.\n",
    "- It is important to note that Python strings can have binary data. apart from text data.\n",
    "- **syntax: fileobject.read()**\n",
    "    - passed parameter is the number of bytes to be read from the opened file. \n",
    "    - this method starts reading from the beginning of the file and if count is missing\n",
    "    - then it tries to read as much as possible, maybe until the end of file."
   ]
  },
  {
   "cell_type": "code",
   "execution_count": 7,
   "metadata": {},
   "outputs": [
    {
     "name": "stdout",
     "output_type": "stream",
     "text": [
      "Read String is :  Python is \n"
     ]
    }
   ],
   "source": [
    "# Open a file\n",
    "fo = open(\"foo.txt\", \"r+\")\n",
    "str1 = fo.read(10)\n",
    "print (\"Read String is : \", str1)\n",
    "\n",
    "# Close opened file\n",
    "fo.close()"
   ]
  },
  {
   "cell_type": "markdown",
   "metadata": {},
   "source": [
    "## readlines( ) method\n",
    "- reads until EOF using readline() \n",
    "- returns a list containing the lines.\n",
    "- an empty string is returned only when EOF is encountered immediately.\n",
    "- **syntax: fileobject.readlines(sizeint)**\n",
    "    - sizehint − This is the number of bytes to be read from the file"
   ]
  },
  {
   "cell_type": "code",
   "execution_count": 10,
   "metadata": {
    "collapsed": true
   },
   "outputs": [],
   "source": [
    "# write several lines to a file \n",
    "fo = open('demo_readlines.txt', 'w+')\n",
    "for i in range(5):\n",
    "    if i != 3:\n",
    "        fo.write(str(i) + '\\n')\n",
    "    else:\n",
    "        fo.write('python')\n",
    "fo.close()\n",
    "# take a look at the demo_readlines.txt"
   ]
  },
  {
   "cell_type": "code",
   "execution_count": 16,
   "metadata": {},
   "outputs": [
    {
     "name": "stdout",
     "output_type": "stream",
     "text": [
      "python4\n",
      "\n"
     ]
    }
   ],
   "source": [
    "# readlines() \n",
    "# check if there is a line startswith 'python' and print it out\n",
    "fo = open('demo_readlines.txt', 'r+')\n",
    "flag = False\n",
    "for line in fo.readlines(): # fo.readlines() returns a list\n",
    "#for line in fo: # we can directly iterate the file object\n",
    "    if line.startswith('python'):\n",
    "        flag = True\n",
    "        print(line)\n",
    "if not flag:\n",
    "    print('no line startswith python')\n",
    "fo.close()"
   ]
  },
  {
   "cell_type": "markdown",
   "metadata": {},
   "source": [
    "## with statement\n",
    "- in case we forgot to close the file object after we open a file\n",
    "- with statement can help use automatically close the file object and do memory cleanup"
   ]
  },
  {
   "cell_type": "code",
   "execution_count": 18,
   "metadata": {
    "collapsed": true
   },
   "outputs": [],
   "source": [
    "# write several lines to a file \n",
    "with open('demo_readlines.txt', 'w+') as fo:\n",
    "    for i in range(5):\n",
    "        if i != 3:\n",
    "            fo.write(str(i) + '\\n')\n",
    "        else:\n",
    "            fo.write('python')\n",
    "# no need to do fo.close()"
   ]
  },
  {
   "cell_type": "code",
   "execution_count": 19,
   "metadata": {},
   "outputs": [
    {
     "name": "stdout",
     "output_type": "stream",
     "text": [
      "python4\n",
      "\n"
     ]
    }
   ],
   "source": [
    "with open('demo_readlines.txt', 'r+') as fo:\n",
    "    flag = False\n",
    "    for line in fo.readlines(): # fo.readlines() returns a list\n",
    "    #for line in fo: # we can directly iterate the file object\n",
    "        if line.startswith('python'):\n",
    "            flag = True\n",
    "            print(line)\n",
    "    if not flag:\n",
    "        print('no line startswith python')\n",
    "# no need to do fo.close()"
   ]
  },
  {
   "cell_type": "markdown",
   "metadata": {
    "collapsed": true
   },
   "source": [
    "## other functions\n",
    "- [read .xls, .xlsx .csv file](https://www.shanelynn.ie/python-pandas-read_csv-load-data-from-csv-files/)\n",
    "- [reference to other functions if you want to know more](https://www.tutorialspoint.com/python3/file_methods.htm)\n",
    "    - file.writelines()\n",
    "    - file positions\n",
    "    - os relevant operations"
   ]
  }
 ],
 "metadata": {
  "kernelspec": {
   "display_name": "Python 3",
   "language": "python",
   "name": "python3"
  },
  "language_info": {
   "codemirror_mode": {
    "name": "ipython",
    "version": 3
   },
   "file_extension": ".py",
   "mimetype": "text/x-python",
   "name": "python",
   "nbconvert_exporter": "python",
   "pygments_lexer": "ipython3",
   "version": "3.7.4"
  }
 },
 "nbformat": 4,
 "nbformat_minor": 1
}
