{
 "cells": [
  {
   "cell_type": "markdown",
   "metadata": {},
   "source": [
    "## Common Jupyter operations\n",
    "\n",
    "Near the top of the https://try.jupyter.org page, Jupyter provides a row of menu options (`File`, `Edit`, `View`, `Insert`, ...) and a row of tool bar icons (disk, plus sign, scissors, 2 files, clipboard and file, up arrow, ...).\n",
    "\n",
    "#### Inserting and removing cells\n",
    "\n",
    "- Use the \"plus sign\" icon to insert a cell below the currently selected cell\n",
    "- Use \"Insert\" -> \"Insert Cell Above\" from the menu to insert above\n",
    "\n",
    "#### Clear the output of all cells\n",
    "\n",
    "- Use \"Kernel\" -> \"Restart\" from the menu to restart the kernel\n",
    "    - click on \"clear all outputs & restart\" to have all the output cleared\n",
    "\n",
    "#### Save your notebook file locally\n",
    "\n",
    "- Clear the output of all cells\n",
    "- Use \"File\" -> \"Download as\" -> \"IPython Notebook (.ipynb)\" to download a notebook file representing your https://try.jupyter.org session\n",
    "\n",
    "#### Load your notebook file in try.jupyter.org\n",
    "\n",
    "1. Visit https://try.jupyter.org\n",
    "2. Click the \"Upload\" button near the upper right corner\n",
    "3. Navigate your filesystem to find your `*.ipynb` file and click \"open\"\n",
    "4. Click the new \"upload\" button that appears next to your file name\n",
    "5. Click on your uploaded notebook file\n",
    "\n",
    "<hr>"
   ]
  },
  {
   "cell_type": "markdown",
   "metadata": {},
   "source": [
    "## References\n",
    "\n",
    "- https://try.jupyter.org\n",
    "- https://docs.python.org/3/tutorial/index.html\n",
    "- https://docs.python.org/3/tutorial/introduction.html\n",
    "- https://daringfireball.net/projects/markdown/syntax\n",
    "- https://www.tutorialspoint.com/python3\n",
    "\n",
    "<hr>"
   ]
  },
  {
   "cell_type": "markdown",
   "metadata": {},
   "source": [
    "Before reading this materials, you should know:\n",
    "- how to run jupyter notebook\n",
    "- python comments\n",
    "    - single line comment : #\n",
    "    - multiple line comment (triple single quotes) : ''' and '''"
   ]
  },
  {
   "cell_type": "markdown",
   "metadata": {},
   "source": [
    "# Check if you are using python3"
   ]
  },
  {
   "cell_type": "code",
   "execution_count": 414,
   "metadata": {},
   "outputs": [
    {
     "data": {
      "text/plain": [
       "'3.5.2 (default, Jun 29 2016, 13:42:59) \\n[GCC 4.2.1 Compatible Apple LLVM 7.0.2 (clang-700.1.81)]'"
      ]
     },
     "execution_count": 414,
     "metadata": {},
     "output_type": "execute_result"
    }
   ],
   "source": [
    "import sys\n",
    "sys.version"
   ]
  },
  {
   "cell_type": "markdown",
   "metadata": {},
   "source": [
    "## Lines and Indentations"
   ]
  },
  {
   "cell_type": "markdown",
   "metadata": {},
   "source": [
    "- indentation: line indentation, usually tab\n",
    "- The number of spaces in the indentation is variable, but all statements within the block must be indented the same amount\n",
    "- all the continuous lines indented with the same number of spaces would form a block\n",
    "- SEMI COLON is not complusory!!!!"
   ]
  },
  {
   "cell_type": "code",
   "execution_count": 415,
   "metadata": {},
   "outputs": [
    {
     "name": "stdout",
     "output_type": "stream",
     "text": [
      "True\n"
     ]
    }
   ],
   "source": [
    "if True:\n",
    "    print('True')# ; is optional    \n",
    "else:\n",
    "    print('False')# ; is optional"
   ]
  },
  {
   "cell_type": "code",
   "execution_count": 416,
   "metadata": {},
   "outputs": [
    {
     "name": "stdout",
     "output_type": "stream",
     "text": [
      "True\n"
     ]
    }
   ],
   "source": [
    "# WRONG EXAMPLE\n",
    "if True:\n",
    "    print('True')\n",
    "#print('True')# you have to do line indentation for each line. SyntaxError: invalid syntax \n",
    "else:\n",
    "    print('False')"
   ]
  },
  {
   "cell_type": "markdown",
   "metadata": {},
   "source": [
    "# Multi-Line Statements"
   ]
  },
  {
   "cell_type": "markdown",
   "metadata": {},
   "source": [
    "- Statements in Python typically end with a new line. \n",
    "- Python allows the use of the line continuation character (\\) to denote that the line should continue"
   ]
  },
  {
   "cell_type": "code",
   "execution_count": 417,
   "metadata": {},
   "outputs": [],
   "source": [
    "total = 'item_one' + \\\n",
    "    'item_two' + \\\n",
    "    'item_three'"
   ]
  },
  {
   "cell_type": "markdown",
   "metadata": {},
   "source": [
    "# Multiple Statements on a Single Line"
   ]
  },
  {
   "cell_type": "code",
   "execution_count": 418,
   "metadata": {},
   "outputs": [
    {
     "name": "stdout",
     "output_type": "stream",
     "text": [
      "foo\n"
     ]
    }
   ],
   "source": [
    "# The semicolon ( ; ) allows multiple statements on a single line given that no statement starts a new code block\n",
    "x = 'foo'; print(x)"
   ]
  },
  {
   "cell_type": "markdown",
   "metadata": {},
   "source": [
    "# Multiple Statement Groups as Suites\n",
    "- Groups of individual statements, which make a single code block are called suites in Python\n",
    "- Compound or complex statements, such as if, while, def, and class require a header line and a suite.\n",
    "- Header lines begin the statement (with the keyword) and terminate with a colon ( : ) and are followed by one or more lines which make up the suite."
   ]
  },
  {
   "cell_type": "code",
   "execution_count": 419,
   "metadata": {},
   "outputs": [],
   "source": [
    "a = 2\n",
    "if a > 2 : \n",
    "    #suite\n",
    "    pass\n",
    "elif a < 0 : \n",
    "    #suite\n",
    "    pass\n",
    "else : \n",
    "    #suite\n",
    "    pass"
   ]
  },
  {
   "cell_type": "markdown",
   "metadata": {},
   "source": [
    "# Number"
   ]
  },
  {
   "cell_type": "markdown",
   "metadata": {},
   "source": [
    "## Python data type convertion"
   ]
  },
  {
   "cell_type": "code",
   "execution_count": 420,
   "metadata": {},
   "outputs": [
    {
     "data": {
      "text/plain": [
       "2"
      ]
     },
     "execution_count": 420,
     "metadata": {},
     "output_type": "execute_result"
    }
   ],
   "source": [
    "int(2.3)"
   ]
  },
  {
   "cell_type": "code",
   "execution_count": 421,
   "metadata": {},
   "outputs": [
    {
     "data": {
      "text/plain": [
       "2.0"
      ]
     },
     "execution_count": 421,
     "metadata": {},
     "output_type": "execute_result"
    }
   ],
   "source": [
    "float(2)"
   ]
  },
  {
   "cell_type": "markdown",
   "metadata": {},
   "source": [
    "## Mathematical Functions"
   ]
  },
  {
   "cell_type": "code",
   "execution_count": 422,
   "metadata": {},
   "outputs": [
    {
     "data": {
      "text/plain": [
       "2.5"
      ]
     },
     "execution_count": 422,
     "metadata": {},
     "output_type": "execute_result"
    }
   ],
   "source": [
    "# abs(x) : the absulute value of x\n",
    "x = -2.5\n",
    "abs(x)"
   ]
  },
  {
   "cell_type": "code",
   "execution_count": 423,
   "metadata": {},
   "outputs": [
    {
     "data": {
      "text/plain": [
       "-42"
      ]
     },
     "execution_count": 423,
     "metadata": {},
     "output_type": "execute_result"
    }
   ],
   "source": [
    "# ceil(x) : the smallest integer not less than x\n",
    "import math\n",
    "math.ceil(-42.27)"
   ]
  },
  {
   "cell_type": "code",
   "execution_count": 424,
   "metadata": {},
   "outputs": [
    {
     "data": {
      "text/plain": [
       "-34"
      ]
     },
     "execution_count": 424,
     "metadata": {},
     "output_type": "execute_result"
    }
   ],
   "source": [
    "# floor(x) : largest integer not greater than x\n",
    "import math\n",
    "math.floor(-33.45)"
   ]
  },
  {
   "cell_type": "code",
   "execution_count": 425,
   "metadata": {},
   "outputs": [
    {
     "data": {
      "text/plain": [
       "9.974182454814718"
      ]
     },
     "execution_count": 425,
     "metadata": {},
     "output_type": "execute_result"
    }
   ],
   "source": [
    "# exp(x) : The exponential of x\n",
    "import math\n",
    "math.exp(2.3)"
   ]
  },
  {
   "cell_type": "code",
   "execution_count": 426,
   "metadata": {},
   "outputs": [
    {
     "data": {
      "text/plain": [
       "0.6931471805599453"
      ]
     },
     "execution_count": 426,
     "metadata": {},
     "output_type": "execute_result"
    }
   ],
   "source": [
    "# log(x) : The natural logarithm of x, for x> 0\n",
    "import math\n",
    "math.log(2)"
   ]
  },
  {
   "cell_type": "code",
   "execution_count": 427,
   "metadata": {},
   "outputs": [
    {
     "data": {
      "text/plain": [
       "0.3010299956639812"
      ]
     },
     "execution_count": 427,
     "metadata": {},
     "output_type": "execute_result"
    }
   ],
   "source": [
    "# log10(x): The base-10 logarithm of x for x> 0\n",
    "import math\n",
    "math.log10(2)"
   ]
  },
  {
   "cell_type": "code",
   "execution_count": 428,
   "metadata": {},
   "outputs": [
    {
     "name": "stdout",
     "output_type": "stream",
     "text": [
      "100\n",
      "100\n",
      "c\n",
      "80\n",
      "80\n",
      "a\n"
     ]
    }
   ],
   "source": [
    "print(max(80, 90, 100))\n",
    "print(max([80, 90, 100]))\n",
    "print(max('abc'))\n",
    "print(min(80, 90, 100))\n",
    "print(min([80, 90, 100]))\n",
    "print(min('abc'))"
   ]
  },
  {
   "cell_type": "code",
   "execution_count": 429,
   "metadata": {},
   "outputs": [
    {
     "data": {
      "text/plain": [
       "32"
      ]
     },
     "execution_count": 429,
     "metadata": {},
     "output_type": "execute_result"
    }
   ],
   "source": [
    "# pow(x, y) == x ** y\n",
    "pow(2, 5)"
   ]
  },
  {
   "cell_type": "code",
   "execution_count": 529,
   "metadata": {},
   "outputs": [
    {
     "data": {
      "text/plain": [
       "0"
      ]
     },
     "execution_count": 529,
     "metadata": {},
     "output_type": "execute_result"
    }
   ],
   "source": [
    "# round(x [,n]) :\n",
    "# x rounded to n digits from the decimal point.\n",
    "# Python rounds away from zero as a tie-breaker: round(0.5) is 0.0 and round(-0.5) is 0.0.\n",
    "round(0.5)"
   ]
  },
  {
   "cell_type": "code",
   "execution_count": 530,
   "metadata": {},
   "outputs": [
    {
     "data": {
      "text/plain": [
       "0"
      ]
     },
     "execution_count": 530,
     "metadata": {},
     "output_type": "execute_result"
    }
   ],
   "source": [
    "round(-0.5)"
   ]
  },
  {
   "cell_type": "code",
   "execution_count": 432,
   "metadata": {},
   "outputs": [
    {
     "data": {
      "text/plain": [
       "1.4142135623730951"
      ]
     },
     "execution_count": 432,
     "metadata": {},
     "output_type": "execute_result"
    }
   ],
   "source": [
    "# sqrt(x) : The square root of x for x > 0\n",
    "import math\n",
    "math.sqrt(2)"
   ]
  },
  {
   "cell_type": "code",
   "execution_count": 433,
   "metadata": {},
   "outputs": [
    {
     "name": "stdout",
     "output_type": "stream",
     "text": [
      "-0.9899924966004454\n",
      "0.1411200080598672\n",
      "-0.1425465430742778\n",
      "1.2490457723982544\n"
     ]
    }
   ],
   "source": [
    "import math\n",
    "print(math.cos(3))\n",
    "print(math.sin(3))\n",
    "print(math.tan(3))\n",
    "print(math.atan(3))"
   ]
  },
  {
   "cell_type": "code",
   "execution_count": 434,
   "metadata": {},
   "outputs": [
    {
     "data": {
      "text/plain": [
       "3.141592653589793"
      ]
     },
     "execution_count": 434,
     "metadata": {},
     "output_type": "execute_result"
    }
   ],
   "source": [
    "import math\n",
    "math.pi"
   ]
  },
  {
   "cell_type": "code",
   "execution_count": 435,
   "metadata": {},
   "outputs": [
    {
     "data": {
      "text/plain": [
       "2.718281828459045"
      ]
     },
     "execution_count": 435,
     "metadata": {},
     "output_type": "execute_result"
    }
   ],
   "source": [
    "math.e"
   ]
  },
  {
   "cell_type": "markdown",
   "metadata": {},
   "source": [
    "## random choice functions"
   ]
  },
  {
   "cell_type": "code",
   "execution_count": 436,
   "metadata": {},
   "outputs": [
    {
     "name": "stdout",
     "output_type": "stream",
     "text": [
      "2\n",
      " \n"
     ]
    }
   ],
   "source": [
    "# choice(seq) : A random item from a list, tuple, or string.\n",
    "import random\n",
    "print(random.choice([1, 2, 3, 5, 9]))\n",
    "print(random.choice('A String'))"
   ]
  },
  {
   "cell_type": "code",
   "execution_count": 437,
   "metadata": {},
   "outputs": [
    {
     "name": "stdout",
     "output_type": "stream",
     "text": [
      "randrange(100, 1000, 2) :  826\n",
      "randrange(100, 1000, 3) :  811\n"
     ]
    }
   ],
   "source": [
    "# randrange([start,] stop [,step]): returns a randomly selected element from range(start, stop, step) \n",
    "import random\n",
    "# Select an even number in 100 <= number < 1000\n",
    "print(\"randrange(100, 1000, 2) : \", random.randrange(100, 1000, 2))\n",
    "# Select another number in 100 <= number < 1000\n",
    "print(\"randrange(100, 1000, 3) : \", random.randrange(100, 1000, 3))"
   ]
  },
  {
   "cell_type": "code",
   "execution_count": 438,
   "metadata": {},
   "outputs": [
    {
     "data": {
      "text/plain": [
       "0.6176610236610508"
      ]
     },
     "execution_count": 438,
     "metadata": {},
     "output_type": "execute_result"
    }
   ],
   "source": [
    "# random() : return a random float r in [0,1)\n",
    "import random\n",
    "random.random()"
   ]
  },
  {
   "cell_type": "markdown",
   "metadata": {},
   "source": [
    "# String"
   ]
  },
  {
   "cell_type": "code",
   "execution_count": 439,
   "metadata": {
    "collapsed": true
   },
   "outputs": [],
   "source": [
    "# initialization\n",
    "# single quote == double quotes\n",
    "var1 = 'Hello World!'\n",
    "var2 = \"Python Programming\""
   ]
  },
  {
   "cell_type": "code",
   "execution_count": 440,
   "metadata": {},
   "outputs": [
    {
     "name": "stdout",
     "output_type": "stream",
     "text": [
      "var1[0]: H\n",
      "var2[1:5]: ytho\n"
     ]
    }
   ],
   "source": [
    "# accessing the values in strings\n",
    "# start from zero\n",
    "var1 = 'Hello World!'\n",
    "var2 = \"Python Programming\"\n",
    "\n",
    "print(\"var1[0]: \" + var1[0])\n",
    "print(\"var2[1:5]: \" + var2[1:5])"
   ]
  },
  {
   "cell_type": "code",
   "execution_count": 441,
   "metadata": {},
   "outputs": [
    {
     "name": "stdout",
     "output_type": "stream",
     "text": [
      "Updated String : Hello Python \n"
     ]
    }
   ],
   "source": [
    "# update an existing string\n",
    "var1 = 'Hello World!'\n",
    "print (\"Updated String : {} \".format(var1[:6] + 'Python')) # format output"
   ]
  },
  {
   "cell_type": "markdown",
   "metadata": {},
   "source": [
    "## Escape Characters\n",
    "- \\n : newline\n",
    "- \\t : tab\n",
    "- ..."
   ]
  },
  {
   "cell_type": "markdown",
   "metadata": {},
   "source": [
    "## String Special Operators"
   ]
  },
  {
   "cell_type": "code",
   "execution_count": 442,
   "metadata": {
    "collapsed": true
   },
   "outputs": [],
   "source": [
    "a, b = 'Hello', 'Python'"
   ]
  },
  {
   "cell_type": "code",
   "execution_count": 443,
   "metadata": {},
   "outputs": [
    {
     "data": {
      "text/plain": [
       "'HelloPython'"
      ]
     },
     "execution_count": 443,
     "metadata": {},
     "output_type": "execute_result"
    }
   ],
   "source": [
    "# string concatenation\n",
    "a + b # "
   ]
  },
  {
   "cell_type": "code",
   "execution_count": 444,
   "metadata": {},
   "outputs": [
    {
     "data": {
      "text/plain": [
       "'HelloHello'"
      ]
     },
     "execution_count": 444,
     "metadata": {},
     "output_type": "execute_result"
    }
   ],
   "source": [
    "a*2"
   ]
  },
  {
   "cell_type": "code",
   "execution_count": 445,
   "metadata": {},
   "outputs": [
    {
     "data": {
      "text/plain": [
       "'ell'"
      ]
     },
     "execution_count": 445,
     "metadata": {},
     "output_type": "execute_result"
    }
   ],
   "source": [
    "# range slice a string\n",
    "a[1:4] # a[1], a[2], a[3] (no a[4])"
   ]
  },
  {
   "cell_type": "code",
   "execution_count": 446,
   "metadata": {},
   "outputs": [
    {
     "data": {
      "text/plain": [
       "True"
      ]
     },
     "execution_count": 446,
     "metadata": {},
     "output_type": "execute_result"
    }
   ],
   "source": [
    "# membership\n",
    "'H' in a"
   ]
  },
  {
   "cell_type": "code",
   "execution_count": 447,
   "metadata": {},
   "outputs": [
    {
     "data": {
      "text/plain": [
       "True"
      ]
     },
     "execution_count": 447,
     "metadata": {},
     "output_type": "execute_result"
    }
   ],
   "source": [
    "'M' not in a"
   ]
  },
  {
   "cell_type": "code",
   "execution_count": 448,
   "metadata": {},
   "outputs": [
    {
     "name": "stdout",
     "output_type": "stream",
     "text": [
      "\n",
      "\n"
     ]
    }
   ],
   "source": [
    "# r or R help suppresses actual meaning of Escape characters \n",
    "# what if we want to print the raw string of \\n?\n",
    "print('\\n')"
   ]
  },
  {
   "cell_type": "code",
   "execution_count": 449,
   "metadata": {},
   "outputs": [
    {
     "name": "stdout",
     "output_type": "stream",
     "text": [
      "\\n\n",
      "\\n\n"
     ]
    }
   ],
   "source": [
    "print(r'\\n')\n",
    "print(R'\\n')"
   ]
  },
  {
   "cell_type": "markdown",
   "metadata": {},
   "source": [
    "## String Formatting Operator\n",
    "- %s : string\n",
    "- %d : signed decimal integer\n",
    "- %f : floating number\n",
    "- ..."
   ]
  },
  {
   "cell_type": "code",
   "execution_count": 450,
   "metadata": {},
   "outputs": [
    {
     "name": "stdout",
     "output_type": "stream",
     "text": [
      "My name is Zara and weight is 21 kg!\n",
      "My name is Zara and weight is 21.200000 kg!\n",
      "My name is Zara and weight is 21.20 kg!\n",
      "My name is Zara and weight is 21.20 kg!\n",
      "My name is Zara and weight is  21.200000 kg!\n",
      "My name is Zara and weight is      21.20 kg!\n",
      "My name is Zara and weight is      21.20 kg!\n"
     ]
    }
   ],
   "source": [
    "print (\"My name is %s and weight is %d kg!\" % ('Zara', 21)) \n",
    "print (\"My name is %s and weight is %f kg!\" % ('Zara', 21.2)) \n",
    "print (\"My name is %s and weight is %.2f kg!\" % ('Zara', 21.2)) \n",
    "print (\"My name is %s and weight is %.2f kg!\" % ('Zara', 21.2)) \n",
    "print (\"My name is %s and weight is %10f kg!\" % ('Zara', 21.2)) \n",
    "print (\"My name is %s and weight is %10.2f kg!\" % ('Zara', 21.2)) \n",
    "print (\"My name is {0} and weight is {1:10.2f} kg!\".format('Zara', 21.2)) "
   ]
  },
  {
   "cell_type": "markdown",
   "metadata": {},
   "source": [
    "## Unicode \n",
    "- it's a bit painful to handle non-ascii strings in python2 but python3 has improved it.\n",
    "- strings are stored as unicode in python3.\n",
    "    - unicode string can be converted to bytes in python3\n",
    "- string coding\n",
    "    - ascii and unicode (utf8 and utf16 are the typical implementations for the unicode)\n",
    "    - ascii for English letters while unicode can be used to encode non-English letters such as Chinese\n",
    "    - ref in English\n",
    "        - [ref1](https://medium.com/@apiltamang/unicode-utf-8-and-ascii-encodings-made-easy-5bfbe3a1c45a) (connect to our school network if you cannot open it)\n",
    "        - [ref2](https://www.joelonsoftware.com/2003/10/08/the-absolute-minimum-every-software-developer-absolutely-positively-must-know-about-unicode-and-character-sets-no-excuses/)\n",
    "    - ref in Chinese\n",
    "        - [ref1](http://www.ruanyifeng.com/blog/2007/10/ascii_unicode_and_utf-8.html)\n",
    "        - [ref2](http://cenalulu.github.io/linux/character-encoding/)"
   ]
  },
  {
   "cell_type": "code",
   "execution_count": 451,
   "metadata": {
    "collapsed": true
   },
   "outputs": [],
   "source": [
    "nonlat = '字'"
   ]
  },
  {
   "cell_type": "code",
   "execution_count": 452,
   "metadata": {},
   "outputs": [
    {
     "name": "stdout",
     "output_type": "stream",
     "text": [
      "<class 'str'>\n"
     ]
    }
   ],
   "source": [
    "print(type(nonlat))"
   ]
  },
  {
   "cell_type": "code",
   "execution_count": 453,
   "metadata": {},
   "outputs": [
    {
     "name": "stdout",
     "output_type": "stream",
     "text": [
      "b'\\xe5\\xad\\x97'\n",
      "<class 'bytes'>\n"
     ]
    }
   ],
   "source": [
    "# encoding: unicode string TO(by utf8) bytes string\n",
    "# we have the encoding systems such as 'utf8'=='utf-8'(commonly used), 'utf-16'=='utf16'\n",
    "a = nonlat.encode('utf8')\n",
    "print(a)\n",
    "print(type(a))"
   ]
  },
  {
   "cell_type": "code",
   "execution_count": 454,
   "metadata": {},
   "outputs": [
    {
     "name": "stdout",
     "output_type": "stream",
     "text": [
      "字\n",
      "<class 'str'>\n"
     ]
    }
   ],
   "source": [
    "b = a.decode('utf8')\n",
    "print(b)\n",
    "print(type(b))"
   ]
  },
  {
   "cell_type": "code",
   "execution_count": 455,
   "metadata": {},
   "outputs": [
    {
     "name": "stdout",
     "output_type": "stream",
     "text": [
      "15\n",
      "15\n",
      "-1\n"
     ]
    }
   ],
   "source": [
    "# strA.find(strB, beg = 0 end = len(string))\n",
    "# search strB in strA\n",
    "# beg: starting index, by default its 0; end: ending index, by default its len(string)\n",
    "# return the index if found and -1 otherwise\n",
    "str1 = \"this is string example....wow!!!\"\n",
    "str2 = \"exam\";\n",
    "\n",
    "print (str1.find(str2))\n",
    "print (str1.find(str2, 10))\n",
    "print (str1.find(str2, 40))"
   ]
  },
  {
   "cell_type": "code",
   "execution_count": 456,
   "metadata": {},
   "outputs": [
    {
     "name": "stdout",
     "output_type": "stream",
     "text": [
      "15\n",
      "15\n"
     ]
    }
   ],
   "source": [
    "# strA.index(strB, beg = 0 end = len(string))\n",
    "# similar to str.find\n",
    "# only difference is it will raises an exception if strB is not found\n",
    "str1 = \"this is string example....wow!!!\"\n",
    "str2 = \"exam\";\n",
    "\n",
    "print (str1.index(str2))\n",
    "print (str1.index(str2, 10))\n",
    "#print (str1.index(str2, 40)) # ValueError: substring not found"
   ]
  },
  {
   "cell_type": "code",
   "execution_count": 457,
   "metadata": {},
   "outputs": [
    {
     "name": "stdout",
     "output_type": "stream",
     "text": [
      "str.count('i') :  3\n",
      "str.count('exam', 10, 40) :  1\n"
     ]
    }
   ],
   "source": [
    "# str.count(sub, start = 0,end = len(string))\n",
    "# returns the number of occurrences of substring sub in the range [start, end]. \n",
    "# Optional arguments start and end are interpreted as in slice notation.\n",
    "str = \"this is string example....wow!!!\"\n",
    "sub = 'i'\n",
    "print (\"str.count('i') : \", str.count(sub))\n",
    "sub = 'exam'\n",
    "print (\"str.count('exam', 10, 40) : \", str.count(sub,10,40))"
   ]
  },
  {
   "cell_type": "code",
   "execution_count": 458,
   "metadata": {},
   "outputs": [
    {
     "name": "stdout",
     "output_type": "stream",
     "text": [
      "True\n",
      "False\n",
      "False\n"
     ]
    }
   ],
   "source": [
    "# str.isalnum(): check if all characters in the string are alphanumeric \n",
    "# and there is at least one character\n",
    "str = \"this2018\"  # No space in this string\n",
    "print (str.isalnum())\n",
    "\n",
    "str = \"this2018 \"  # No space in this string\n",
    "print (str.isalnum())\n",
    "\n",
    "str = \"this is an example!!!\"\n",
    "print (str.isalnum())"
   ]
  },
  {
   "cell_type": "code",
   "execution_count": 459,
   "metadata": {},
   "outputs": [
    {
     "name": "stdout",
     "output_type": "stream",
     "text": [
      "False\n",
      "True\n"
     ]
    }
   ],
   "source": [
    "# str.isalpha() : checks if the string consists of alphabetic characters only\n",
    "str = \"this2018\"  # No space in this string\n",
    "print (str.isalpha())\n",
    "\n",
    "str = \"this\"  # No space in this string\n",
    "print (str.isalnum())"
   ]
  },
  {
   "cell_type": "code",
   "execution_count": 460,
   "metadata": {},
   "outputs": [
    {
     "name": "stdout",
     "output_type": "stream",
     "text": [
      "a-b-c\n",
      "a-b-c\n",
      "a-b-c\n"
     ]
    }
   ],
   "source": [
    "# str.join(sequence) : returns a string, which is the concatenation of the strings \n",
    "# in the sequence. The separator between elements is the string providing this method.\n",
    "s = \"-\"\n",
    "seq = (\"a\", \"b\", \"c\") # This is sequence of strings.\n",
    "print(s.join( seq ))\n",
    "print('-'.join(seq))\n",
    "print('-'.join(['a', 'b', 'c']))"
   ]
  },
  {
   "cell_type": "code",
   "execution_count": 461,
   "metadata": {},
   "outputs": [
    {
     "name": "stdout",
     "output_type": "stream",
     "text": [
      "this is string example....wow!!!\n",
      "THIS IS STRING EXAMPLE....WOW!!!\n"
     ]
    }
   ],
   "source": [
    "# str.lower(): returns a copy of the string in which \n",
    "# all case-based characters have been lowercased.\n",
    "# similarly, we have str.upper()\n",
    "str = \"THIS IS STRING EXAMPLE....WOW!!!\"\n",
    "lower_str = str.lower()\n",
    "print(lower_str)\n",
    "upper_str = lower_str.upper()\n",
    "print(upper_str)"
   ]
  },
  {
   "cell_type": "code",
   "execution_count": 462,
   "metadata": {},
   "outputs": [
    {
     "name": "stdout",
     "output_type": "stream",
     "text": [
      "True\n",
      "True\n",
      "False\n",
      "True\n"
     ]
    }
   ],
   "source": [
    "# str.endswith(suffix[, start[, end]])\n",
    "# TRUE if the string ends with the specified suffix, otherwise FALSE.\n",
    "# Similarly, we have str.startswith\n",
    "Str = 'this is string example....wow!!!'\n",
    "suffix = '!!'\n",
    "print (Str.endswith(suffix))\n",
    "print (Str.endswith(suffix,20))\n",
    "\n",
    "suffix = 'exam'\n",
    "print (Str.endswith(suffix))\n",
    "print (Str.endswith(suffix, 0, 19))"
   ]
  },
  {
   "cell_type": "code",
   "execution_count": 463,
   "metadata": {},
   "outputs": [
    {
     "name": "stdout",
     "output_type": "stream",
     "text": [
      "this is string example....wow!!!\n",
      "this is string example....wow!!!*****\n",
      "     this is string example....wow!!!\n",
      "*****this is string example....wow!!!\n",
      "this is string example....wow!!!\n",
      "this is string example....wow!!!\n"
     ]
    }
   ],
   "source": [
    "# lstrip, rstrip, strip\n",
    "# str.lstrip([chars]) : returns a copy of the string in which all chars have been stripped \n",
    "# from the beginning of the string (default whitespace characters)\n",
    "# str.rstrip([chars]): ... from the end of the string (default whitespace characters)\n",
    "# str.strip([chars]) : ... from the beginning and end of the string (default whitespace characters)\n",
    "\n",
    "str = \"     this is string example....wow!!!\"\n",
    "print (str.lstrip())\n",
    "\n",
    "str = \"*****this is string example....wow!!!*****\"\n",
    "print (str.lstrip('*'))\n",
    "\n",
    "str = \"     this is string example....wow!!!     \"\n",
    "print (str.rstrip())\n",
    "\n",
    "str = \"*****this is string example....wow!!!*****\"\n",
    "print (str.rstrip('*'))\n",
    "\n",
    "str = \"*****this is string example....wow!!!*****\"\n",
    "print(str.strip('*'))\n",
    "str = \"     this is string example....wow!!!     \"\n",
    "print(str.strip())"
   ]
  },
  {
   "cell_type": "code",
   "execution_count": 464,
   "metadata": {},
   "outputs": [
    {
     "name": "stdout",
     "output_type": "stream",
     "text": [
      "thwas was string example....wow!!! thwas was really string\n",
      "thwas was string example....wow!!! thwas is really string\n"
     ]
    }
   ],
   "source": [
    "# str.replace(old, new[, max])\n",
    "# returns a copy of the string with all occurrences of substring old replaced by new.\n",
    "str = \"this is string example....wow!!! this is really string\"\n",
    "print(str.replace(\"is\", \"was\"))\n",
    "print(str.replace(\"is\", \"was\", 3))"
   ]
  },
  {
   "cell_type": "code",
   "execution_count": 465,
   "metadata": {},
   "outputs": [
    {
     "name": "stdout",
     "output_type": "stream",
     "text": [
      "['this', 'is', 'string', 'example....wow!!!']\n",
      "['th', 's is string example....wow!!!']\n",
      "['this is string example....', 'o', '!!!']\n",
      "['i', ' love', ' python', ' and', ' you']\n"
     ]
    }
   ],
   "source": [
    "# str.split(str=\"\", num = string.count(str))\n",
    "# returns a list of all the words in the string, using str as the separator \n",
    "# (splits on all whitespace if left unspecified)\n",
    "# optionally limiting the number of splits to num.\n",
    "str = \"this is string example....wow!!!\"\n",
    "print (str.split( ))\n",
    "print (str.split('i',1))\n",
    "print (str.split('w'))\n",
    "\n",
    "str1 = 'i, love, python, and, you'\n",
    "print(str1.split(','))"
   ]
  },
  {
   "cell_type": "code",
   "execution_count": 466,
   "metadata": {},
   "outputs": [
    {
     "name": "stdout",
     "output_type": "stream",
     "text": [
      "Max character: y\n",
      "Max character: x\n"
     ]
    }
   ],
   "source": [
    "# max(str): returns the max alphabetical character from the string str.\n",
    "# min(str): returns the min alphabetical character from the string str.\n",
    "str = \"this is a string example....really!!!\"\n",
    "print(\"Max character: \" + max(str))\n",
    "\n",
    "str = \"this is a string example....wow!!!\"\n",
    "print(\"Max character: \" + max(str))"
   ]
  },
  {
   "cell_type": "markdown",
   "metadata": {},
   "source": [
    "We also have other useful functions for unicode strings\n",
    "- check if the string consists of numbers only, return False if empty\n",
    "    - str.isdigit()\n",
    "    - str.isnumeric()\n",
    "    - str.isdecimal()\n",
    "        - [the difference for these three functions](https://stackoverflow.com/questions/44891070/whats-the-difference-between-str-isdigit-isnumeric-and-isdecimal-in-python) NOT IMPORTANT\n",
    "- check if all cased characters in the string are lowercase, return False if empty\n",
    "    - str.islower()\n",
    "- rfind() : Same as find(), but search backwards in string.\n",
    "- rindex(): Same as index(), but search backwards in string."
   ]
  },
  {
   "cell_type": "markdown",
   "metadata": {},
   "source": [
    "# List\n",
    "- The most basic data structure in Python is the sequence. \n",
    "- Each element of a sequence is assigned a number - its position or index. \n",
    "- Index starts from ZERO\n",
    "- List is one of the commonly used sequential data structure\n",
    "- common operations\n",
    "    - indexing : get one of the element from the list\n",
    "    - slicing : get part of the list\n",
    "    - multiplying : repeat the list or list element\n",
    "    - checking for membership : check if one element is in this list or not\n",
    "- Features:\n",
    "    - ORDERED Sequences! \n",
    "    - elements in a list no need to be the same type\n",
    "- Syntax:\n",
    "    - a list of comma-separated values (items) between square brackets, e.g.\n",
    "    - ['physics', 'chemistry', 1997, 2000]\n",
    "    - [1, 2, 3, 4, 5 ]\n"
   ]
  },
  {
   "cell_type": "code",
   "execution_count": 467,
   "metadata": {},
   "outputs": [
    {
     "name": "stdout",
     "output_type": "stream",
     "text": [
      "[1, 2, 3]\n",
      "range(0, 10)\n",
      "<class 'range'>\n",
      "[0, 0, 0, 0, 0]\n"
     ]
    }
   ],
   "source": [
    "## Create a list\n",
    "a = [1, 2, 3]\n",
    "## commonly used\n",
    "b = range(10)\n",
    "c = [0]*5\n",
    "print(a)\n",
    "print(b)\n",
    "print(type(b))\n",
    "print(c)"
   ]
  },
  {
   "cell_type": "code",
   "execution_count": 468,
   "metadata": {},
   "outputs": [
    {
     "name": "stdout",
     "output_type": "stream",
     "text": [
      "list1[0]:  physics\n",
      "list2[1:5]:  [2, 3, 4, 5]\n"
     ]
    }
   ],
   "source": [
    "# Accessing Values in Lists\n",
    "list1 = ['physics', 'chemistry', 1997, 2000]\n",
    "list2 = [1, 2, 3, 4, 5, 6, 7 ]\n",
    "\n",
    "print(\"list1[0]: \", list1[0])\n",
    "print(\"list2[1:5]: \", list2[1:5])"
   ]
  },
  {
   "cell_type": "code",
   "execution_count": 469,
   "metadata": {},
   "outputs": [
    {
     "name": "stdout",
     "output_type": "stream",
     "text": [
      "Value available at index 2 :  1997\n",
      "New value available at index 2 :  2001\n"
     ]
    }
   ],
   "source": [
    "# Updating Lists\n",
    "list1 = ['physics', 'chemistry', 1997, 2000]\n",
    "print(\"Value available at index 2 : \", list1[2])\n",
    "\n",
    "list1[2] = 2001\n",
    "print(\"New value available at index 2 : \", list1[2])"
   ]
  },
  {
   "cell_type": "code",
   "execution_count": 470,
   "metadata": {},
   "outputs": [
    {
     "name": "stdout",
     "output_type": "stream",
     "text": [
      "['physics', 'chemistry', 1997, 2000]\n",
      "After deleting value at index 2 :  ['physics', 'chemistry', 2000]\n",
      "After removing value 2000 :  <class 'list'>\n"
     ]
    }
   ],
   "source": [
    "list1 = ['physics', 'chemistry', 1997, 2000]\n",
    "print (list1)\n",
    "\n",
    "del list1[2]\n",
    "print(\"After deleting value at index 2 : \", list1)\n",
    "list1.remove(2000)\n",
    "print('After removing value 2000 : ', list)"
   ]
  },
  {
   "cell_type": "markdown",
   "metadata": {},
   "source": [
    "## Basic List Operations"
   ]
  },
  {
   "cell_type": "code",
   "execution_count": 471,
   "metadata": {
    "collapsed": true
   },
   "outputs": [],
   "source": [
    "a = [1, 2, 3]\n",
    "b = [4, 5, 6]"
   ]
  },
  {
   "cell_type": "code",
   "execution_count": 472,
   "metadata": {},
   "outputs": [
    {
     "data": {
      "text/plain": [
       "[1, 2, 3, 4, 5, 6]"
      ]
     },
     "execution_count": 472,
     "metadata": {},
     "output_type": "execute_result"
    }
   ],
   "source": [
    "# concatenation between two lists\n",
    "a + b # a and b haven't changed their values"
   ]
  },
  {
   "cell_type": "code",
   "execution_count": 473,
   "metadata": {
    "collapsed": true
   },
   "outputs": [],
   "source": [
    "# or we can use the extend\n",
    "a.extend(b) # here list a become a + b"
   ]
  },
  {
   "cell_type": "code",
   "execution_count": 474,
   "metadata": {},
   "outputs": [
    {
     "data": {
      "text/plain": [
       "6"
      ]
     },
     "execution_count": 474,
     "metadata": {},
     "output_type": "execute_result"
    }
   ],
   "source": [
    "# get the length of this list\n",
    "len(a)"
   ]
  },
  {
   "cell_type": "code",
   "execution_count": 475,
   "metadata": {},
   "outputs": [
    {
     "name": "stdout",
     "output_type": "stream",
     "text": [
      "[1, 2, 3, 4, 5, 6, 'hello']\n"
     ]
    }
   ],
   "source": [
    "# add one more element to a list\n",
    "a.append('hello')\n",
    "print(a)"
   ]
  },
  {
   "cell_type": "code",
   "execution_count": 476,
   "metadata": {},
   "outputs": [
    {
     "data": {
      "text/plain": [
       "['hi', 'hi', 'hi', 'hi']"
      ]
     },
     "execution_count": 476,
     "metadata": {},
     "output_type": "execute_result"
    }
   ],
   "source": [
    "# repetition\n",
    "c = ['hi']\n",
    "c * 4"
   ]
  },
  {
   "cell_type": "code",
   "execution_count": 477,
   "metadata": {},
   "outputs": [
    {
     "data": {
      "text/plain": [
       "False"
      ]
     },
     "execution_count": 477,
     "metadata": {},
     "output_type": "execute_result"
    }
   ],
   "source": [
    "# membership\n",
    "'5' in a"
   ]
  },
  {
   "cell_type": "code",
   "execution_count": 478,
   "metadata": {},
   "outputs": [
    {
     "data": {
      "text/plain": [
       "True"
      ]
     },
     "execution_count": 478,
     "metadata": {},
     "output_type": "execute_result"
    }
   ],
   "source": [
    "# membership\n",
    "5 in a"
   ]
  },
  {
   "cell_type": "code",
   "execution_count": 479,
   "metadata": {},
   "outputs": [
    {
     "name": "stdout",
     "output_type": "stream",
     "text": [
      "1\n",
      "2\n",
      "3\n"
     ]
    }
   ],
   "source": [
    "# iteration\n",
    "for x in [1, 2, 3]:\n",
    "    print(x)"
   ]
  },
  {
   "cell_type": "code",
   "execution_count": 480,
   "metadata": {},
   "outputs": [
    {
     "name": "stdout",
     "output_type": "stream",
     "text": [
      "C++\n",
      "Julia\n",
      "Python\n",
      "Go\n",
      "['Java', 'Python', 'Go', 'Julia']\n",
      "['Python', 'Go', 'Julia']\n",
      "['Python', 'Go']\n"
     ]
    }
   ],
   "source": [
    "# indexing and slicing\n",
    "list1 = ['C++', 'Java', 'Python', 'Go', 'Julia']\n",
    "print(list1[0]) # the 1st element from left to right\n",
    "print(list1[-1]) # the last element, the 1st element from right to left\n",
    "print(list1[2])# the 3rd element from left to right\n",
    "print(list1[-2]) # the 2nd element from right to left\n",
    "print(list1[1:]) # the sub-list starting from the 2nd element to the right end\n",
    "print(list1[-3:]) # the sub-list starting from the 3rd element from right to left to the right end\n",
    "print(list1[2:4]) # the sub-list consists of elements list1[2], list1[3], (NO list1[4]!!!)"
   ]
  },
  {
   "cell_type": "code",
   "execution_count": 481,
   "metadata": {},
   "outputs": [
    {
     "name": "stdout",
     "output_type": "stream",
     "text": [
      "3\n",
      "1\n"
     ]
    }
   ],
   "source": [
    "# max and min\n",
    "list2 = [1, 2, 3]\n",
    "print(max(list2))\n",
    "print(min(list2))"
   ]
  },
  {
   "cell_type": "code",
   "execution_count": 482,
   "metadata": {},
   "outputs": [
    {
     "name": "stdout",
     "output_type": "stream",
     "text": [
      "['goodbye', 'hi']\n",
      "['hi', 'goodbye']\n"
     ]
    }
   ],
   "source": [
    "# convert to list\n",
    "my_set = set(['hi', 'goodbye'])\n",
    "my_tuple = ('hi', 'goodbye')\n",
    "print(list(my_set))\n",
    "print(list(my_tuple))"
   ]
  },
  {
   "cell_type": "code",
   "execution_count": 483,
   "metadata": {},
   "outputs": [
    {
     "data": {
      "text/plain": [
       "2"
      ]
     },
     "execution_count": 483,
     "metadata": {},
     "output_type": "execute_result"
    }
   ],
   "source": [
    "# list.count(obj) : return the count of how many times obj occurs in list\n",
    "a = [1, 1, 2, 3, 3]\n",
    "a.count(1)"
   ]
  },
  {
   "cell_type": "code",
   "execution_count": 484,
   "metadata": {},
   "outputs": [
    {
     "data": {
      "text/plain": [
       "3"
      ]
     },
     "execution_count": 484,
     "metadata": {},
     "output_type": "execute_result"
    }
   ],
   "source": [
    "# list.index(obj) : return the lowest index in list that obj appears\n",
    "a.index(3)"
   ]
  },
  {
   "cell_type": "code",
   "execution_count": 485,
   "metadata": {},
   "outputs": [
    {
     "data": {
      "text/plain": [
       "[1, 1, 'hi', 2, 3, 3]"
      ]
     },
     "execution_count": 485,
     "metadata": {},
     "output_type": "execute_result"
    }
   ],
   "source": [
    "# list.insert(obj) : Inserts object obj into list at offset index\n",
    "a.insert(2, 'hi')\n",
    "a"
   ]
  },
  {
   "cell_type": "code",
   "execution_count": 486,
   "metadata": {},
   "outputs": [
    {
     "data": {
      "text/plain": [
       "[1, 1, 'hi', 2, 3]"
      ]
     },
     "execution_count": 486,
     "metadata": {},
     "output_type": "execute_result"
    }
   ],
   "source": [
    "# list.pop(): Removes and returns last object or obj from list\n",
    "a.pop()\n",
    "a"
   ]
  },
  {
   "cell_type": "code",
   "execution_count": 487,
   "metadata": {
    "collapsed": true
   },
   "outputs": [],
   "source": [
    "# list.remove() : Removes object obj from list\n",
    "a.remove('hi')"
   ]
  },
  {
   "cell_type": "code",
   "execution_count": 488,
   "metadata": {
    "collapsed": true
   },
   "outputs": [],
   "source": [
    "# list.reverse() : Reverses objects of list in place\n",
    "a.reverse()"
   ]
  },
  {
   "cell_type": "code",
   "execution_count": 489,
   "metadata": {},
   "outputs": [
    {
     "name": "stdout",
     "output_type": "stream",
     "text": [
      "list now :  ['Biology', 'chemistry', 'maths', 'physics']\n",
      "list now :  ['physics', 'maths', 'chemistry', 'Biology']\n"
     ]
    }
   ],
   "source": [
    "# list.sort() : sort the words by the alphabet order\n",
    "list1 = ['physics', 'Biology', 'chemistry', 'maths']\n",
    "list1.sort()\n",
    "print(\"list now : \", list1)\n",
    "list1.sort(reverse=True)\n",
    "print(\"list now : \", list1)"
   ]
  },
  {
   "cell_type": "code",
   "execution_count": 490,
   "metadata": {},
   "outputs": [
    {
     "name": "stdout",
     "output_type": "stream",
     "text": [
      "list now :  [1, 2, 3, 4, 5]\n",
      "list now :  [5, 4, 3, 2, 1]\n"
     ]
    }
   ],
   "source": [
    "# list.sort() : \n",
    "list1 = [2, 1, 3, 5, 4]\n",
    "list1.sort() # from smallest to largest\n",
    "print(\"list now : \", list1)\n",
    "list1.sort(reverse=True) # from largest to smallest\n",
    "print(\"list now : \", list1)"
   ]
  },
  {
   "cell_type": "markdown",
   "metadata": {},
   "source": [
    "# Set\n",
    "- similar with the mathematical set\n",
    "- unordered\n",
    "- no duplication\n",
    "- element in a set is immutable (cannot be modified) but the set as a whole is mutable.\n",
    "- no index attached to any element in a python set"
   ]
  },
  {
   "cell_type": "code",
   "execution_count": 491,
   "metadata": {},
   "outputs": [
    {
     "name": "stdout",
     "output_type": "stream",
     "text": [
      "{'Wed', 'Tue', 'Fri', 'Thu', 'Sun', 'Mon', 'Sat'}\n",
      "{'Mar', 'Feb', 'Jan'}\n",
      "{17, 21, 22}\n",
      "<class 'set'>\n"
     ]
    }
   ],
   "source": [
    "# create a set\n",
    "# method 1: created by using the set() function\n",
    "# method 2: placing all the elements within a pair of curly braces\n",
    "Days=set([\"Mon\",\"Tue\",\"Wed\",\"Thu\",\"Fri\",\"Sat\",\"Sun\"])\n",
    "Months={\"Jan\",\"Feb\",\"Mar\"}\n",
    "Dates={21,22,17}\n",
    "print(Days)\n",
    "print(Months)\n",
    "print(Dates)\n",
    "print(type(Dates))"
   ]
  },
  {
   "cell_type": "code",
   "execution_count": 492,
   "metadata": {},
   "outputs": [
    {
     "name": "stdout",
     "output_type": "stream",
     "text": [
      "Wed\n",
      "Tue\n",
      "Fri\n",
      "Thu\n",
      "Sun\n",
      "Mon\n",
      "Sat\n"
     ]
    }
   ],
   "source": [
    "# Accessing Values in a Set\n",
    "# We cannot access individual values in a set. We can only access all the elements together as shown above. \n",
    "# But we can also get a list of individual elements by looping through the set.\n",
    "Days=set([\"Mon\",\"Tue\",\"Wed\",\"Thu\",\"Fri\",\"Sat\",\"Sun\"])\n",
    " \n",
    "for d in Days:\n",
    "\tprint(d)"
   ]
  },
  {
   "cell_type": "code",
   "execution_count": 493,
   "metadata": {},
   "outputs": [
    {
     "name": "stdout",
     "output_type": "stream",
     "text": [
      "{'Wed', 'Tue', 'Fri', 'Thu', 'Sun', 'Mon', 'Sat'}\n"
     ]
    }
   ],
   "source": [
    "# Adding Items to a Set\n",
    "# add elements to a set by using add() method\n",
    "Days=set([\"Mon\",\"Tue\",\"Wed\",\"Thu\",\"Fri\",\"Sat\"])\n",
    " \n",
    "Days.add(\"Sun\")\n",
    "print(Days)"
   ]
  },
  {
   "cell_type": "code",
   "execution_count": 494,
   "metadata": {},
   "outputs": [
    {
     "name": "stdout",
     "output_type": "stream",
     "text": [
      "{'Wed', 'Tue', 'Fri', 'Thu', 'Mon', 'Sat'}\n"
     ]
    }
   ],
   "source": [
    "# Removing Item from a Set\n",
    "# remove elements from a set by using discard() method\n",
    "Days=set([\"Mon\",\"Tue\",\"Wed\",\"Thu\",\"Fri\",\"Sat\"])\n",
    " \n",
    "Days.discard(\"Sun\")\n",
    "print(Days)"
   ]
  },
  {
   "cell_type": "code",
   "execution_count": 495,
   "metadata": {},
   "outputs": [
    {
     "name": "stdout",
     "output_type": "stream",
     "text": [
      "{'Wed', 'Tue', 'Fri', 'Thu', 'Sun', 'Mon', 'Sat'}\n"
     ]
    }
   ],
   "source": [
    "# Union of Sets\n",
    "DaysA = set([\"Mon\",\"Tue\",\"Wed\"])\n",
    "DaysB = set([\"Wed\",\"Thu\",\"Fri\",\"Sat\",\"Sun\"])\n",
    "AllDays = DaysA|DaysB\n",
    "print(AllDays)"
   ]
  },
  {
   "cell_type": "code",
   "execution_count": 496,
   "metadata": {},
   "outputs": [
    {
     "name": "stdout",
     "output_type": "stream",
     "text": [
      "{'Wed'}\n"
     ]
    }
   ],
   "source": [
    "# Intersection of Sets\n",
    "DaysA = set([\"Mon\",\"Tue\",\"Wed\"])\n",
    "DaysB = set([\"Wed\",\"Thu\",\"Fri\",\"Sat\",\"Sun\"])\n",
    "AllDays = DaysA & DaysB\n",
    "print(AllDays)"
   ]
  },
  {
   "cell_type": "code",
   "execution_count": 497,
   "metadata": {},
   "outputs": [
    {
     "name": "stdout",
     "output_type": "stream",
     "text": [
      "{'Tue', 'Mon'}\n"
     ]
    }
   ],
   "source": [
    "# Difference of Sets\n",
    "DaysA = set([\"Mon\",\"Tue\",\"Wed\"])\n",
    "DaysB = set([\"Wed\",\"Thu\",\"Fri\",\"Sat\",\"Sun\"])\n",
    "AllDays = DaysA - DaysB\n",
    "print(AllDays)"
   ]
  },
  {
   "cell_type": "code",
   "execution_count": 498,
   "metadata": {},
   "outputs": [
    {
     "name": "stdout",
     "output_type": "stream",
     "text": [
      "True\n",
      "True\n"
     ]
    }
   ],
   "source": [
    "# Compare Sets\n",
    "DaysA = set([\"Mon\",\"Tue\",\"Wed\"])\n",
    "DaysB = set([\"Mon\",\"Tue\",\"Wed\",\"Thu\",\"Fri\",\"Sat\",\"Sun\"])\n",
    "SubsetRes = DaysA <= DaysB\n",
    "SupersetRes = DaysB >= DaysA\n",
    "print(SubsetRes)\n",
    "print(SupersetRes)"
   ]
  },
  {
   "cell_type": "markdown",
   "metadata": {},
   "source": [
    "# Tuple\n",
    "- a sequence of IMMUTABLE Python objects\n",
    "    - you cannot update or change the values of tuple elements\n",
    "- ordered\n",
    "- syntax\n",
    "    - Creating a tuple is as simple as putting different comma-separated values, e.g. tup1 = ('physics', 'chemistry', 1997, 2000)\n",
    "    - Put these comma-separated values between parentheses, e.g. tup2 = \"a\", \"b\", \"c\", \"d\"\n",
    "    - empty tuple:\n",
    "    - To write a tuple containing a single value you HAVE TO include a comma, even though there is only one value\n",
    "        - e.g. tup1 = (50,)\n",
    "    - indices start at 0"
   ]
  },
  {
   "cell_type": "code",
   "execution_count": 499,
   "metadata": {},
   "outputs": [
    {
     "name": "stdout",
     "output_type": "stream",
     "text": [
      "tup1[0]:  physics\n",
      "tup2[1:5]:  (2, 3, 4, 5)\n"
     ]
    }
   ],
   "source": [
    "# Accessing Values in Tuples. Similar with Lists\n",
    "tup1 = ('physics', 'chemistry', 1997, 2000)\n",
    "tup2 = (1, 2, 3, 4, 5, 6, 7 )\n",
    "\n",
    "print (\"tup1[0]: \", tup1[0])\n",
    "print (\"tup2[1:5]: \", tup2[1:5])"
   ]
  },
  {
   "cell_type": "code",
   "execution_count": 500,
   "metadata": {},
   "outputs": [
    {
     "name": "stdout",
     "output_type": "stream",
     "text": [
      "(12, 34.56, 'abc', 'xyz')\n"
     ]
    }
   ],
   "source": [
    "# Updating Tuples\n",
    "tup1 = (12, 34.56)\n",
    "tup2 = ('abc', 'xyz')\n",
    "\n",
    "# Following action is not valid for tuples\n",
    "# tup1[0] = 100; # tuple is IMMUTABLE. you will get the TypeError: 'tuple' object does not support item assignment\n",
    "\n",
    "# So let's create a new tuple as follows\n",
    "tup3 = tup1 + tup2\n",
    "print (tup3)"
   ]
  },
  {
   "cell_type": "code",
   "execution_count": 501,
   "metadata": {},
   "outputs": [
    {
     "name": "stdout",
     "output_type": "stream",
     "text": [
      "('physics', 'chemistry', 1997, 2000)\n"
     ]
    }
   ],
   "source": [
    "# Delete Tuple Elements\n",
    "# Removing individual tuple elements is not possible\n",
    "tup = ('physics', 'chemistry', 1997, 2000);\n",
    "\n",
    "print (tup)\n",
    "del tup;"
   ]
  },
  {
   "cell_type": "markdown",
   "metadata": {},
   "source": [
    "## Basic Tuples Operations"
   ]
  },
  {
   "cell_type": "code",
   "execution_count": 502,
   "metadata": {
    "collapsed": true
   },
   "outputs": [],
   "source": [
    "a = (1, 2, 3)\n",
    "b = (4, 5, 6)"
   ]
  },
  {
   "cell_type": "code",
   "execution_count": 503,
   "metadata": {},
   "outputs": [
    {
     "data": {
      "text/plain": [
       "3"
      ]
     },
     "execution_count": 503,
     "metadata": {},
     "output_type": "execute_result"
    }
   ],
   "source": [
    "# length\n",
    "len(a)"
   ]
  },
  {
   "cell_type": "code",
   "execution_count": 504,
   "metadata": {},
   "outputs": [
    {
     "data": {
      "text/plain": [
       "(1, 2, 3, 4, 5, 6)"
      ]
     },
     "execution_count": 504,
     "metadata": {},
     "output_type": "execute_result"
    }
   ],
   "source": [
    "# concatenation\n",
    "a + b"
   ]
  },
  {
   "cell_type": "code",
   "execution_count": 505,
   "metadata": {},
   "outputs": [
    {
     "data": {
      "text/plain": [
       "('hi', 'hi', 'hi', 'hi')"
      ]
     },
     "execution_count": 505,
     "metadata": {},
     "output_type": "execute_result"
    }
   ],
   "source": [
    "# repetition\n",
    "('hi',)*4"
   ]
  },
  {
   "cell_type": "code",
   "execution_count": 506,
   "metadata": {},
   "outputs": [
    {
     "data": {
      "text/plain": [
       "True"
      ]
     },
     "execution_count": 506,
     "metadata": {},
     "output_type": "execute_result"
    }
   ],
   "source": [
    "# membership\n",
    "3 in a"
   ]
  },
  {
   "cell_type": "code",
   "execution_count": 507,
   "metadata": {},
   "outputs": [
    {
     "name": "stdout",
     "output_type": "stream",
     "text": [
      "1\n",
      "2\n",
      "3\n"
     ]
    }
   ],
   "source": [
    "# iteration\n",
    "for x in a: print(x)"
   ]
  },
  {
   "cell_type": "code",
   "execution_count": 508,
   "metadata": {},
   "outputs": [
    {
     "name": "stdout",
     "output_type": "stream",
     "text": [
      "3\n",
      "2\n",
      "(2, 3)\n"
     ]
    }
   ],
   "source": [
    "# indexing\n",
    "# a = (1, 2, 3)\n",
    "print(a[2])\n",
    "print(a[-2])\n",
    "print(a[1:])"
   ]
  },
  {
   "cell_type": "code",
   "execution_count": 509,
   "metadata": {},
   "outputs": [
    {
     "name": "stdout",
     "output_type": "stream",
     "text": [
      "3\n",
      "1\n"
     ]
    }
   ],
   "source": [
    "# max, min\n",
    "print(max(a))\n",
    "print(min(a))\n"
   ]
  },
  {
   "cell_type": "code",
   "execution_count": 510,
   "metadata": {},
   "outputs": [
    {
     "name": "stdout",
     "output_type": "stream",
     "text": [
      "(1, 2, 3)\n",
      "<class 'tuple'>\n"
     ]
    }
   ],
   "source": [
    "# convert  a list to tuple\n",
    "cur_tuple = tuple([1, 2, 3])\n",
    "print(cur_tuple)\n",
    "print(type(cur_tuple))"
   ]
  },
  {
   "cell_type": "markdown",
   "metadata": {},
   "source": [
    "# Dict\n",
    "- key value pairs (键值对 in Chinese): hash map (哈希表 in Chinese) in data structure\n",
    "    - hash map: store as key value pairs, \n",
    "    - analogy: we have 10 drawers where we have a some amount of money in each drawer\n",
    "        - key to the 1st drawer : 10 dollars\n",
    "        - key to the 2nd drawer : 12 dollars\n",
    "        - ...\n",
    "    - why we need such kind of data structures? It's fast to do some operations such as indexing\n",
    "        - if you are required to get the 5th element in a list\n",
    "        - a = [1, 2, 3, 4, 5, 6, 7, 8, 9, 10]\n",
    "        - you have to scan this list starting from the beginning, and check if the current element is the 5th element.\n",
    "        - it becomes too complicated if you are required to get the 1 million-th element in a 2 millions list\n",
    "        - it would be easier if we model this list as a dictionary or hash map\n",
    "            - key is the index, value is the value of each element\n",
    "            - dict = {0:1, 1:2, 2:3, 3:4, 4:5, 5:6, 6:7, 7:8, 8:9, 9:10}\n",
    "            - we can directly get the 5th element by dict[4]\n",
    "- Keys are unique within a dictionary\n",
    "- The values of a dictionary can be of any type, but the keys must be of an immutable data type such as strings, numbers, or tuples\n",
    "- Unordered Key Value Pairs\n",
    "- Syntax\n",
    "    - each key is separated from its value by a colon (:)\n",
    "    - the items are separated by commas\n",
    "    - the whole thing is enclosed in curly braces\n",
    "        - e.g. dict = {'Name': 'Zara', 'Age': 7, 'Class': 'First'}\n",
    "    - an empty dictionary without any items is written with just two curly braces, like this: {}"
   ]
  },
  {
   "cell_type": "code",
   "execution_count": 511,
   "metadata": {},
   "outputs": [
    {
     "name": "stdout",
     "output_type": "stream",
     "text": [
      "dict['Name']:  Zara\n",
      "dict['Age']:  7\n"
     ]
    }
   ],
   "source": [
    "# Accessing Values in Dictionary\n",
    "dict = {'Name': 'Zara', 'Age': 7, 'Class': 'First'}\n",
    "print(\"dict['Name']: \", dict['Name'])\n",
    "print(\"dict['Age']: \", dict['Age'])"
   ]
  },
  {
   "cell_type": "code",
   "execution_count": 512,
   "metadata": {
    "collapsed": true
   },
   "outputs": [],
   "source": [
    "# if you try to access the key which is not the key of a dictionary\n",
    "# dict = {'Name': 'Zara', 'Age': 7, 'Class': 'First'};\n",
    "# print (\"dict['Alice']: \", dict['Alice']) # you will get he KeyError: 'Alice'"
   ]
  },
  {
   "cell_type": "code",
   "execution_count": 513,
   "metadata": {},
   "outputs": [
    {
     "name": "stdout",
     "output_type": "stream",
     "text": [
      "dict['Age']:  8\n",
      "dict['School']:  DPS School\n"
     ]
    }
   ],
   "source": [
    "# Updating Dictionary\n",
    "dict = {'Name': 'Zara', 'Age': 7, 'Class': 'First'}\n",
    "dict['Age'] = 8; # update existing entry\n",
    "dict['School'] = \"DPS School\" # Add new entry\n",
    "\n",
    "print (\"dict['Age']: \", dict['Age'])\n",
    "print (\"dict['School']: \", dict['School'])"
   ]
  },
  {
   "cell_type": "code",
   "execution_count": 514,
   "metadata": {},
   "outputs": [
    {
     "name": "stdout",
     "output_type": "stream",
     "text": [
      "{'Class': 'First', 'Age': 7}\n"
     ]
    }
   ],
   "source": [
    "# Delete Dictionary Elements\n",
    "dict1 = {'Name': 'Zara', 'Age': 7, 'Class': 'First'}\n",
    "\n",
    "del dict1['Name'] # remove entry with key 'Name'\n",
    "print(dict1)"
   ]
  },
  {
   "cell_type": "code",
   "execution_count": 515,
   "metadata": {},
   "outputs": [
    {
     "data": {
      "text/plain": [
       "{}"
      ]
     },
     "execution_count": 515,
     "metadata": {},
     "output_type": "execute_result"
    }
   ],
   "source": [
    "# Delete Dictionary Elements\n",
    "dict2 = {'Name': 'Zara', 'Age': 7, 'Class': 'First'}\n",
    "dict2.clear() # remove all the key value pairs in dict2.\n",
    "dict2 # dict2 becomes the empty dictionary"
   ]
  },
  {
   "cell_type": "code",
   "execution_count": 516,
   "metadata": {},
   "outputs": [],
   "source": [
    "# Delete Dictionary Elements\n",
    "dict3 = {'Name': 'Zara', 'Age': 7, 'Class': 'First'}\n",
    "del dict3\n",
    "# dict3 # you will get the NameError: name 'dict3' is not defined"
   ]
  },
  {
   "cell_type": "code",
   "execution_count": 517,
   "metadata": {},
   "outputs": [
    {
     "name": "stdout",
     "output_type": "stream",
     "text": [
      "cur_dict['Name']:  Manni\n"
     ]
    }
   ],
   "source": [
    "# dictionary keys restriction1: no duplicate key is allowed\n",
    "# but the last assignment wins when duplicate keys are encountered during assignment\n",
    "cur_dict = {'Name': 'Zara', 'Age': 7, 'Name': 'Manni'}\n",
    "print (\"cur_dict['Name']: \", cur_dict['Name'])"
   ]
  },
  {
   "cell_type": "code",
   "execution_count": 518,
   "metadata": {},
   "outputs": [],
   "source": [
    "# dictionary keys restriction2: Keys must be immutable\n",
    "# cur_dict = {['Name']: 'Zara', 'Age': 7} # list is not immutable. TypeError: unhashable type: 'list'\n",
    "# print (\"cur_dict['Name']: \", cur_dict['Name']) # you will get the TypeError: list objects are unhashable"
   ]
  },
  {
   "cell_type": "markdown",
   "metadata": {},
   "source": [
    "## Built-in Dictionary Functions and Methods"
   ]
  },
  {
   "cell_type": "code",
   "execution_count": 519,
   "metadata": {
    "collapsed": true
   },
   "outputs": [],
   "source": [
    "cur_dict = {'Name': 'Zara', 'Age': 7, 'Class': 'First'}"
   ]
  },
  {
   "cell_type": "code",
   "execution_count": 520,
   "metadata": {},
   "outputs": [
    {
     "data": {
      "text/plain": [
       "3"
      ]
     },
     "execution_count": 520,
     "metadata": {},
     "output_type": "execute_result"
    }
   ],
   "source": [
    "# length\n",
    "len(cur_dict)"
   ]
  },
  {
   "cell_type": "code",
   "execution_count": 521,
   "metadata": {},
   "outputs": [
    {
     "data": {
      "text/plain": [
       "\"{'Name': 'Zara', 'Class': 'First', 'Age': 7}\""
      ]
     },
     "execution_count": 521,
     "metadata": {},
     "output_type": "execute_result"
    }
   ],
   "source": [
    "# string representation\n",
    "cur_dict.__repr__()"
   ]
  },
  {
   "cell_type": "code",
   "execution_count": 522,
   "metadata": {},
   "outputs": [
    {
     "name": "stdout",
     "output_type": "stream",
     "text": [
      "New Dictionary : {'sex': None, 'name': None, 'age': None}\n",
      "New Dictionary : {'sex': 10, 'name': 10, 'age': 10}\n",
      "New Dictionary : {'sex': [10, 11, 12], 'name': [10, 11, 12], 'age': [10, 11, 12]}\n"
     ]
    }
   ],
   "source": [
    "# dict.fromkeys(seq[, value=None])) : creates a new dictionary with keys from seq and values set to value.\n",
    "seq = ('name', 'age', 'sex')\n",
    "\n",
    "cur_dict = cur_dict.fromkeys(seq)\n",
    "print(\"New Dictionary : %s\" %  cur_dict.__repr__())\n",
    "\n",
    "cur_dict = cur_dict.fromkeys(seq, 10)\n",
    "print(\"New Dictionary : %s\" %  cur_dict.__repr__())\n",
    "\n",
    "cur_dict = cur_dict.fromkeys(seq, [10, 11, 12])\n",
    "print(\"New Dictionary : %s\" %  cur_dict.__repr__()) # values are not 10 and 11 and 12"
   ]
  },
  {
   "cell_type": "code",
   "execution_count": 523,
   "metadata": {},
   "outputs": [
    {
     "name": "stdout",
     "output_type": "stream",
     "text": [
      "Value : 27\n",
      "Value : 27\n",
      "Value : NA\n"
     ]
    }
   ],
   "source": [
    "# dict.get(key, default=None) : returns a value for the given key. \n",
    "# If key is not available then returns default value None.\n",
    "cur_dict = {'Name': 'Zara', 'Age': 27}\n",
    "\n",
    "# indexing method1: directly use the key\n",
    "print (\"Value : %s\" %  cur_dict['Age'])\n",
    "# indexing method2: use get in case the key is not in this dict\n",
    "print (\"Value : %s\" %  cur_dict.get('Age'))\n",
    "print (\"Value : %s\" %  cur_dict.get('Sex', \"NA\"))"
   ]
  },
  {
   "cell_type": "code",
   "execution_count": 524,
   "metadata": {},
   "outputs": [
    {
     "name": "stdout",
     "output_type": "stream",
     "text": [
      "Value : Chris\n",
      "Value : 7\n",
      "Value : None\n",
      "{'Name': 'Chris', 'Sex': None, 'Age': 7}\n"
     ]
    }
   ],
   "source": [
    "# dict.setdefault(key, default = None)\n",
    "# similar to get(), but will set dict[key] = default if key is not already in dict.\n",
    "cur_dict = {'Name': 'Zara', 'Age': 7}\n",
    "\n",
    "# modify the value in dict method1: directly use the key \n",
    "cur_dict['Name'] = 'Chris'\n",
    "print (\"Value : %s\" %  cur_dict['Name'])\n",
    "# modify the value in dict method2: use the setdefault\n",
    "print (\"Value : %s\" %  cur_dict.setdefault('Age', None))\n",
    "print (\"Value : %s\" %  cur_dict.setdefault('Sex', None))\n",
    "print (cur_dict)"
   ]
  },
  {
   "cell_type": "code",
   "execution_count": 525,
   "metadata": {},
   "outputs": [
    {
     "name": "stdout",
     "output_type": "stream",
     "text": [
      "Value : dict_keys(['Name', 'Age'])\n",
      "Value : dict_values(['Zara', 7])\n",
      "Value : dict_items([('Name', 'Zara'), ('Age', 7)])\n"
     ]
    }
   ],
   "source": [
    "# dict.keys(): get the all the keys in a dictionary\n",
    "# dict.values(): get the all the values in a dictionary\n",
    "# dict.items(): get all the key-value pairs in a dictionary\n",
    "cur_dict = {'Name': 'Zara', 'Age': 7}\n",
    "print (\"Value : %s\" %  cur_dict.keys())\n",
    "print (\"Value : %s\" %  cur_dict.values())\n",
    "print (\"Value : %s\" %  cur_dict.items())"
   ]
  },
  {
   "cell_type": "code",
   "execution_count": 526,
   "metadata": {},
   "outputs": [
    {
     "name": "stdout",
     "output_type": "stream",
     "text": [
      "Value : True\n",
      "Value : False\n"
     ]
    }
   ],
   "source": [
    "# IN PYTHON2, we can use dict.has_key(key) to check if a key is in a dict or not\n",
    "# IN PYTHON3, we can only use key in dict membership statement\n",
    "cur_dict = {'Name': 'Zara', 'Age': 7}\n",
    "\n",
    "# print (\"Value : %s\" %  cur_dict.has_key('Age')) # AttributeError: 'dict' object has no attribute 'has_key'\n",
    "print (\"Value : %s\" % ('Age' in cur_dict))\n",
    "print (\"Value : %s\" % ('Sex' in cur_dict))"
   ]
  },
  {
   "cell_type": "code",
   "execution_count": 527,
   "metadata": {},
   "outputs": [
    {
     "name": "stdout",
     "output_type": "stream",
     "text": [
      "updated dict1 :  {'Name': 'Zara', 'Sex': 'female', 'Age': 7}\n"
     ]
    }
   ],
   "source": [
    "# dict.update(dict2) : adds dictionary dict2's key-values pairs in to dict\n",
    "dict1 = {'Name': 'Zara', 'Age': 7}\n",
    "dict2 = {'Sex': 'female' }\n",
    "\n",
    "dict1.update(dict2)\n",
    "print (\"updated dict1 : \", dict1)"
   ]
  },
  {
   "cell_type": "code",
   "execution_count": 528,
   "metadata": {
    "collapsed": true
   },
   "outputs": [],
   "source": [
    "# Assign some containers to different variables\n",
    "list1 = [3, 5, 6, 3, 'dog', 'cat', False]\n",
    "tuple1 = (3, 5, 6, 3, 'dog', 'cat', False)\n",
    "set1 = {3, 5, 6, 3, 'dog', 'cat', False}\n",
    "dict1 = {'name': 'Jane', 'age': 23, 'fav_foods': ['pizza', 'fruit', 'fish']}"
   ]
  }
 ],
 "metadata": {
  "kernelspec": {
   "display_name": "Python 3",
   "language": "python",
   "name": "python3"
  },
  "language_info": {
   "codemirror_mode": {
    "name": "ipython",
    "version": 3
   },
   "file_extension": ".py",
   "mimetype": "text/x-python",
   "name": "python",
   "nbconvert_exporter": "python",
   "pygments_lexer": "ipython3",
   "version": "3.5.2"
  }
 },
 "nbformat": 4,
 "nbformat_minor": 1
}
