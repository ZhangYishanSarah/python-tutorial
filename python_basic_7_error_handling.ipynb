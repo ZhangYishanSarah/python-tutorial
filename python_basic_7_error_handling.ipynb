{
 "cells": [
  {
   "cell_type": "markdown",
   "metadata": {},
   "source": [
    "## Common Jupyter operations\n",
    "\n",
    "Near the top of the https://try.jupyter.org page, Jupyter provides a row of menu options (`File`, `Edit`, `View`, `Insert`, ...) and a row of tool bar icons (disk, plus sign, scissors, 2 files, clipboard and file, up arrow, ...).\n",
    "\n",
    "#### Inserting and removing cells\n",
    "\n",
    "- Use the \"plus sign\" icon to insert a cell below the currently selected cell\n",
    "- Use \"Insert\" -> \"Insert Cell Above\" from the menu to insert above\n",
    "\n",
    "#### Clear the output of all cells\n",
    "\n",
    "- Use \"Kernel\" -> \"Restart\" from the menu to restart the kernel\n",
    "    - click on \"clear all outputs & restart\" to have all the output cleared\n",
    "\n",
    "#### Save your notebook file locally\n",
    "\n",
    "- Clear the output of all cells\n",
    "- Use \"File\" -> \"Download as\" -> \"IPython Notebook (.ipynb)\" to download a notebook file representing your https://try.jupyter.org session\n",
    "\n",
    "#### Load your notebook file in try.jupyter.org\n",
    "\n",
    "1. Visit https://try.jupyter.org\n",
    "2. Click the \"Upload\" button near the upper right corner\n",
    "3. Navigate your filesystem to find your `*.ipynb` file and click \"open\"\n",
    "4. Click the new \"upload\" button that appears next to your file name\n",
    "5. Click on your uploaded notebook file\n",
    "\n",
    "<hr>"
   ]
  },
  {
   "cell_type": "markdown",
   "metadata": {},
   "source": [
    "## References\n",
    "\n",
    "- https://try.jupyter.org\n",
    "- https://docs.python.org/3/tutorial/index.html\n",
    "- https://docs.python.org/3/tutorial/introduction.html\n",
    "- https://daringfireball.net/projects/markdown/syntax\n",
    "- https://www.tutorialspoint.com/python3\n",
    "\n",
    "<hr>"
   ]
  },
  {
   "cell_type": "markdown",
   "metadata": {},
   "source": [
    "Before reading this materials, you should know:\n",
    "- how to run jupyter notebook\n",
    "- python comments\n",
    "    - single line comment : #\n",
    "    - multiple line comment (triple single quotes) : ''' and '''"
   ]
  },
  {
   "cell_type": "markdown",
   "metadata": {},
   "source": [
    "# Check if you are using python3"
   ]
  },
  {
   "cell_type": "code",
   "execution_count": 1,
   "metadata": {},
   "outputs": [
    {
     "data": {
      "text/plain": [
       "'3.5.2 (default, Jun 29 2016, 13:42:59) \\n[GCC 4.2.1 Compatible Apple LLVM 7.0.2 (clang-700.1.81)]'"
      ]
     },
     "execution_count": 1,
     "metadata": {},
     "output_type": "execute_result"
    }
   ],
   "source": [
    "import sys\n",
    "sys.version"
   ]
  },
  {
   "cell_type": "markdown",
   "metadata": {},
   "source": [
    "# Exceptions Handling\n",
    "- Python provides two very important features to handle any unexpected error in your Python programs and to add debugging capabilities in them −\n",
    "    - exception handling\n",
    "    - assertions"
   ]
  },
  {
   "cell_type": "markdown",
   "metadata": {
    "collapsed": true
   },
   "source": [
    "## Starndard exception\n",
    "- **Exception: Base class for all exceptions** \n",
    "- TypeError: Raised when an operation or function is attempted that is invalid for the specified data type.类型错误\n",
    "- AssertionError: Raised in case of failure of the Assert statement.\n",
    "- SystemExit: Raised by the sys.exit() function.\n",
    "- KeyboardInterrupt: Raised when the user interrupts program execution, usually by pressing Ctrl+c.\n",
    "- KeyError: Raised when the specified key is not found in the dictionary.\n",
    "- [More exceptions](https://www.tutorialspoint.com/python3/python_exceptions.htm)"
   ]
  },
  {
   "cell_type": "markdown",
   "metadata": {},
   "source": [
    "## Assertions\n",
    "- An assertion is a **sanity-check** that you can turn on or turn off when you are done with your testing of the program\n",
    "- The easiest way to think of an assertion is to liken it to a raise-if statement (or to be more accurate, a raise-if-not statement). An expression is tested, and if the result comes up false, an exception is **raised.**\n",
    "- Assertions are carried out by the assert statement\n",
    "- Programmers often place assertions at the start of a function to check for valid input, and after a function call to check for valid output."
   ]
  },
  {
   "cell_type": "markdown",
   "metadata": {},
   "source": [
    "## assertion statement\n",
    "- syntax: assert Expression[, Arguments]\n",
    "- If the assertion fails, Python will raise a AssertionError exception\n",
    "- AssertionError exceptions **can be caught and handled** like any other exception, using the try-except statement\n",
    "- If they are not handled, they will terminate the program and produce a traceback."
   ]
  },
  {
   "cell_type": "code",
   "execution_count": 2,
   "metadata": {},
   "outputs": [
    {
     "name": "stdout",
     "output_type": "stream",
     "text": [
      "32.0\n",
      "451\n"
     ]
    }
   ],
   "source": [
    "def KelvinToFahrenheit(Temperature):\n",
    "    assert (Temperature >= 0),\"Colder than absolute zero!\"\n",
    "    return((Temperature-273)*1.8)+32\n",
    "\n",
    "print (KelvinToFahrenheit(273))\n",
    "print (int(KelvinToFahrenheit(505.78)))\n",
    "# print (KelvinToFahrenheit(-5)) # comment out this statement so that we can see the assertion error"
   ]
  },
  {
   "cell_type": "markdown",
   "metadata": {},
   "source": [
    "## Exception\n",
    "- An exception is an event, which occurs during the execution of a program that disrupts the normal flow of the program's instructions.\n",
    "- In general, when a Python script encounters a situation that it cannot cope with, it raises an exception.\n",
    "- An exception is a Python object that represents an error.\n",
    "- When a Python script raises an exception, it must either handle the exception immediately otherwise it terminates and quits."
   ]
  },
  {
   "cell_type": "markdown",
   "metadata": {},
   "source": [
    "## handling an exception\n",
    "- If you have some **suspicious code** that may raise an exception, you can defend your program by placing the suspicious code in a try: block\n",
    "- After the try: block, include an except: statement, followed by a block of code which handles the problem as elegantly as possible."
   ]
  },
  {
   "cell_type": "raw",
   "metadata": {},
   "source": [
    "# syntax:\n",
    "try:\n",
    "   You do your operations here\n",
    "   ......................\n",
    "except ExceptionI:\n",
    "   If there is ExceptionI, then execute this block.\n",
    "except ExceptionII:\n",
    "   If there is ExceptionII, then execute this block.\n",
    "   ......................\n",
    "else:\n",
    "   If there is no exception then execute this block. "
   ]
  },
  {
   "cell_type": "markdown",
   "metadata": {},
   "source": [
    "- A single try statement can have multiple except statements. This is useful when the try block contains statements that may throw different types of exceptions.\n",
    "- You can also provide a generic except clause, which handles any exception.\n",
    "- After the except clause(s), you can include an else-clause. The code in the else-block executes if the code in the try: block does not raise an exception.\n",
    "- The else-block is a good place for code that does not need the try: block's protection."
   ]
  },
  {
   "cell_type": "raw",
   "metadata": {},
   "source": [
    "# commonly used :\n",
    "try:\n",
    "   You do your operations here\n",
    "   ......................\n",
    "except Exception as e:\n",
    "    print(e)"
   ]
  },
  {
   "cell_type": "code",
   "execution_count": 3,
   "metadata": {},
   "outputs": [
    {
     "name": "stdout",
     "output_type": "stream",
     "text": [
      "Written content in the file successfully\n"
     ]
    }
   ],
   "source": [
    "try:\n",
    "    fh = open(\"testfile\", \"w\") # create a file with write-only mode\n",
    "    fh.write(\"This is my test file for exception handling!!\")\n",
    "except IOError:\n",
    "    print(\"Error: can\\'t find file or read data\")\n",
    "else:\n",
    "    print(\"Written content in the file successfully\")\n",
    "    fh.close()"
   ]
  },
  {
   "cell_type": "code",
   "execution_count": 4,
   "metadata": {},
   "outputs": [
    {
     "name": "stdout",
     "output_type": "stream",
     "text": [
      "Error: can't find file or read data\n"
     ]
    }
   ],
   "source": [
    "try:\n",
    "    fh = open(\"testfile\", \"r\") # testfile is write-only. cannot be read It will raise an exception\n",
    "    fh.write(\"This is my test file for exception handling!!\")\n",
    "except IOError:\n",
    "    print(\"Error: can\\'t find file or read data\")\n",
    "else:\n",
    "    print(\"Written content in the file successfully\")"
   ]
  },
  {
   "cell_type": "code",
   "execution_count": 5,
   "metadata": {},
   "outputs": [
    {
     "name": "stdout",
     "output_type": "stream",
     "text": [
      "the current error message is  [Errno 2] No such file or directory: 'testfile2'\n"
     ]
    }
   ],
   "source": [
    "# if you are not sure which Exception type your code will raise, just use the Exception base class\n",
    "try:\n",
    "    fh = open(\"testfile2\", \"r\") # no testfile2 in your current directory. It will raise an exception\n",
    "    fh.write(\"This is my test file for exception handling!!\")\n",
    "except Exception as e:\n",
    "    print('the current error message is ', e)"
   ]
  },
  {
   "cell_type": "code",
   "execution_count": 6,
   "metadata": {},
   "outputs": [
    {
     "name": "stdout",
     "output_type": "stream",
     "text": [
      "I dont know what is the exception even though I have catched the exception\n"
     ]
    }
   ],
   "source": [
    "# try to catch all exceptions\n",
    "try:\n",
    "    fh = open(\"testfile\", \"r\") # no testfile2 in your current directory. It will raise an exception\n",
    "    fh.write(\"This is my test file for exception handling!!\")\n",
    "except:\n",
    "    print('I dont know what is the exception even though I have catched the exception')"
   ]
  },
  {
   "cell_type": "markdown",
   "metadata": {},
   "source": [
    "## Try finnaly clause\n",
    "- You can use a finally: block along with a try: block. \n",
    "- The finally: block is a place to put any code that must execute, whether the try-block raised an exception or not.\n",
    "- **You can provide except clause(s), or a finally clause, but not both. You cannot use else clause as well along with a finally clause.**"
   ]
  },
  {
   "cell_type": "raw",
   "metadata": {},
   "source": [
    "# syntax:\n",
    "try:\n",
    "   You do your operations here;\n",
    "   ......................\n",
    "   Due to any exception, this may be skipped.\n",
    "finally:\n",
    "   This would always be executed.\n",
    "   ......................"
   ]
  },
  {
   "cell_type": "code",
   "execution_count": 7,
   "metadata": {},
   "outputs": [
    {
     "name": "stdout",
     "output_type": "stream",
     "text": [
      "Going to close the file\n",
      "Error: can't find file or read data\n"
     ]
    }
   ],
   "source": [
    "try:\n",
    "    try:\n",
    "        fh = open(\"testfile\", \"r\") # raise an exception\n",
    "        fh.write(\"This is my test file for exception handling!!\")\n",
    "    finally:# execute all the statements in the finally part if an exception is raised\n",
    "        print(\"Going to close the file\")\n",
    "        fh.close()\n",
    "except IOError:# an exception is caught after all the statements in the finally part have been executed\n",
    "    print (\"Error: can\\'t find file or read data\")"
   ]
  },
  {
   "cell_type": "markdown",
   "metadata": {},
   "source": [
    "## Raising an exception\n",
    "- manually raise an exceptionby raise statement\n",
    "- syntax: raise [Exception [, args [, traceback]]]\n",
    "    - Exception is the type of exception (for example, NameError) and argument is a value for the exception argument.\n",
    "    - The argument is optional; if not supplied, the exception argument is None.\n",
    "    - traceback, is also optional (and rarely used in practice)\n",
    "- An exception can be a string, a class or an object.\n",
    "- Most of the exceptions that the Python core raises are classes, with an argument that is an instance of the class"
   ]
  },
  {
   "cell_type": "code",
   "execution_count": 8,
   "metadata": {
    "collapsed": true
   },
   "outputs": [],
   "source": [
    "def functionName( level ):\n",
    "    if level <1:\n",
    "        raise Exception(level) # Exception here is the base Exception class. level is the argument for this exception class\n",
    "        # The code below to this would not be executed\n",
    "        # if we raise the exception\n",
    "    return level"
   ]
  },
  {
   "cell_type": "code",
   "execution_count": 9,
   "metadata": {},
   "outputs": [
    {
     "name": "stdout",
     "output_type": "stream",
     "text": [
      "error in level argument -10\n"
     ]
    }
   ],
   "source": [
    "try:\n",
    "    l = functionName(-10)\n",
    "    print(\"level = \",l)\n",
    "except Exception as e:\n",
    "    print(\"error in level argument\",e.args[0]) # e.args[0] is the 1st element of the exception argument list"
   ]
  },
  {
   "cell_type": "markdown",
   "metadata": {},
   "source": [
    "## User-defined exceptions\n",
    "- Python also allows you to create your own exceptions by deriving classes from the standard built-in exceptions."
   ]
  },
  {
   "cell_type": "code",
   "execution_count": 10,
   "metadata": {
    "collapsed": true
   },
   "outputs": [],
   "source": [
    "class Networkerror(RuntimeError):\n",
    "    def __init__(self, arg):\n",
    "        self.args = arg"
   ]
  },
  {
   "cell_type": "code",
   "execution_count": 11,
   "metadata": {},
   "outputs": [
    {
     "name": "stdout",
     "output_type": "stream",
     "text": [
      "('B', 'a', 'd', ' ', 'h', 'o', 's', 't', 'n', 'a', 'm', 'e')\n"
     ]
    }
   ],
   "source": [
    "try:\n",
    "    raise Networkerror(\"Bad hostname\")\n",
    "except Networkerror as e:\n",
    "    print(e.args)"
   ]
  }
 ],
 "metadata": {
  "kernelspec": {
   "display_name": "Python 3",
   "language": "python",
   "name": "python3"
  },
  "language_info": {
   "codemirror_mode": {
    "name": "ipython",
    "version": 3
   },
   "file_extension": ".py",
   "mimetype": "text/x-python",
   "name": "python",
   "nbconvert_exporter": "python",
   "pygments_lexer": "ipython3",
   "version": "3.7.4"
  }
 },
 "nbformat": 4,
 "nbformat_minor": 1
}
